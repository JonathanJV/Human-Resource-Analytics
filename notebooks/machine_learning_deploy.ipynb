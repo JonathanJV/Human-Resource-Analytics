{
 "cells": [
  {
   "cell_type": "markdown",
   "id": "60343520",
   "metadata": {},
   "source": [
    "## Stack - Projeto Human Resources Analytics"
   ]
  },
  {
   "cell_type": "markdown",
   "id": "1b1bad41",
   "metadata": {},
   "source": [
    "### Machine Learning."
   ]
  },
  {
   "cell_type": "code",
   "execution_count": 4,
   "id": "8d9b163d",
   "metadata": {},
   "outputs": [],
   "source": [
    "import pandas as pd\n",
    "import datetime\n",
    "import glob\n",
    "from minio import Minio\n",
    "import numpy as np\n",
    "import matplotlib.pyplot as plt"
   ]
  },
  {
   "cell_type": "code",
   "execution_count": 5,
   "id": "f5274952",
   "metadata": {},
   "outputs": [],
   "source": [
    "client = Minio(\n",
    "        \"localhost:9000\",\n",
    "        access_key=\"minioadmin\",\n",
    "        secret_key=\"minioadmin\",\n",
    "        secure=False\n",
    "    )"
   ]
  },
  {
   "cell_type": "markdown",
   "id": "838ed69f",
   "metadata": {},
   "source": [
    "### Baixando o Dataset do Data Lake."
   ]
  },
  {
   "cell_type": "code",
   "execution_count": 6,
   "id": "bfa60edd",
   "metadata": {},
   "outputs": [],
   "source": [
    "client.fget_object(\n",
    "            \"processing\",\n",
    "            \"employees_dataset.parquet\",\n",
    "            \"temp_.parquet\",\n",
    ")\n",
    "df = pd.read_parquet(\"temp_.parquet\")"
   ]
  },
  {
   "cell_type": "code",
   "execution_count": 7,
   "id": "22142337",
   "metadata": {
    "scrolled": true
   },
   "outputs": [
    {
     "data": {
      "text/html": [
       "<div>\n",
       "<style scoped>\n",
       "    .dataframe tbody tr th:only-of-type {\n",
       "        vertical-align: middle;\n",
       "    }\n",
       "\n",
       "    .dataframe tbody tr th {\n",
       "        vertical-align: top;\n",
       "    }\n",
       "\n",
       "    .dataframe thead th {\n",
       "        text-align: right;\n",
       "    }\n",
       "</style>\n",
       "<table border=\"1\" class=\"dataframe\">\n",
       "  <thead>\n",
       "    <tr style=\"text-align: right;\">\n",
       "      <th></th>\n",
       "      <th>department</th>\n",
       "      <th>salary</th>\n",
       "      <th>left</th>\n",
       "      <th>mean_work_last_3_months</th>\n",
       "      <th>number_projects</th>\n",
       "      <th>satisfaction_level</th>\n",
       "      <th>last_evaluation</th>\n",
       "      <th>time_in_company</th>\n",
       "      <th>work_accident</th>\n",
       "    </tr>\n",
       "  </thead>\n",
       "  <tbody>\n",
       "    <tr>\n",
       "      <th>0</th>\n",
       "      <td>sales</td>\n",
       "      <td>low</td>\n",
       "      <td>1.0</td>\n",
       "      <td>266.000000</td>\n",
       "      <td>2.0</td>\n",
       "      <td>38.0</td>\n",
       "      <td>53.0</td>\n",
       "      <td>3.0</td>\n",
       "      <td>0.0</td>\n",
       "    </tr>\n",
       "    <tr>\n",
       "      <th>1</th>\n",
       "      <td>sales</td>\n",
       "      <td>medium</td>\n",
       "      <td>1.0</td>\n",
       "      <td>252.000000</td>\n",
       "      <td>5.0</td>\n",
       "      <td>80.0</td>\n",
       "      <td>86.0</td>\n",
       "      <td>6.0</td>\n",
       "      <td>0.0</td>\n",
       "    </tr>\n",
       "    <tr>\n",
       "      <th>2</th>\n",
       "      <td>sales</td>\n",
       "      <td>medium</td>\n",
       "      <td>1.0</td>\n",
       "      <td>289.666667</td>\n",
       "      <td>7.0</td>\n",
       "      <td>11.0</td>\n",
       "      <td>88.0</td>\n",
       "      <td>4.0</td>\n",
       "      <td>0.0</td>\n",
       "    </tr>\n",
       "    <tr>\n",
       "      <th>3</th>\n",
       "      <td>sales</td>\n",
       "      <td>low</td>\n",
       "      <td>1.0</td>\n",
       "      <td>275.666667</td>\n",
       "      <td>5.0</td>\n",
       "      <td>72.0</td>\n",
       "      <td>87.0</td>\n",
       "      <td>5.0</td>\n",
       "      <td>0.0</td>\n",
       "    </tr>\n",
       "    <tr>\n",
       "      <th>4</th>\n",
       "      <td>sales</td>\n",
       "      <td>low</td>\n",
       "      <td>1.0</td>\n",
       "      <td>292.333333</td>\n",
       "      <td>2.0</td>\n",
       "      <td>37.0</td>\n",
       "      <td>52.0</td>\n",
       "      <td>3.0</td>\n",
       "      <td>0.0</td>\n",
       "    </tr>\n",
       "  </tbody>\n",
       "</table>\n",
       "</div>"
      ],
      "text/plain": [
       "  department  salary  left  mean_work_last_3_months  number_projects  \\\n",
       "0      sales     low   1.0               266.000000              2.0   \n",
       "1      sales  medium   1.0               252.000000              5.0   \n",
       "2      sales  medium   1.0               289.666667              7.0   \n",
       "3      sales     low   1.0               275.666667              5.0   \n",
       "4      sales     low   1.0               292.333333              2.0   \n",
       "\n",
       "   satisfaction_level  last_evaluation  time_in_company  work_accident  \n",
       "0                38.0             53.0              3.0            0.0  \n",
       "1                80.0             86.0              6.0            0.0  \n",
       "2                11.0             88.0              4.0            0.0  \n",
       "3                72.0             87.0              5.0            0.0  \n",
       "4                37.0             52.0              3.0            0.0  "
      ]
     },
     "execution_count": 7,
     "metadata": {},
     "output_type": "execute_result"
    }
   ],
   "source": [
    "df.head()"
   ]
  },
  {
   "cell_type": "markdown",
   "id": "fc2fa009",
   "metadata": {},
   "source": [
    "#### Organizando o dataset."
   ]
  },
  {
   "cell_type": "code",
   "execution_count": 8,
   "id": "2f5b7a35",
   "metadata": {},
   "outputs": [],
   "source": [
    "df = df[['department', 'salary', 'mean_work_last_3_months',\n",
    "       'number_projects', 'satisfaction_level', 'last_evaluation',\n",
    "       'time_in_company', 'work_accident','left']]"
   ]
  },
  {
   "cell_type": "code",
   "execution_count": 9,
   "id": "b95448bd",
   "metadata": {
    "scrolled": true
   },
   "outputs": [
    {
     "data": {
      "text/html": [
       "<div>\n",
       "<style scoped>\n",
       "    .dataframe tbody tr th:only-of-type {\n",
       "        vertical-align: middle;\n",
       "    }\n",
       "\n",
       "    .dataframe tbody tr th {\n",
       "        vertical-align: top;\n",
       "    }\n",
       "\n",
       "    .dataframe thead th {\n",
       "        text-align: right;\n",
       "    }\n",
       "</style>\n",
       "<table border=\"1\" class=\"dataframe\">\n",
       "  <thead>\n",
       "    <tr style=\"text-align: right;\">\n",
       "      <th></th>\n",
       "      <th>department</th>\n",
       "      <th>salary</th>\n",
       "      <th>mean_work_last_3_months</th>\n",
       "      <th>number_projects</th>\n",
       "      <th>satisfaction_level</th>\n",
       "      <th>last_evaluation</th>\n",
       "      <th>time_in_company</th>\n",
       "      <th>work_accident</th>\n",
       "      <th>left</th>\n",
       "    </tr>\n",
       "  </thead>\n",
       "  <tbody>\n",
       "    <tr>\n",
       "      <th>0</th>\n",
       "      <td>sales</td>\n",
       "      <td>low</td>\n",
       "      <td>266.000000</td>\n",
       "      <td>2.0</td>\n",
       "      <td>38.0</td>\n",
       "      <td>53.0</td>\n",
       "      <td>3.0</td>\n",
       "      <td>0.0</td>\n",
       "      <td>1.0</td>\n",
       "    </tr>\n",
       "    <tr>\n",
       "      <th>1</th>\n",
       "      <td>sales</td>\n",
       "      <td>medium</td>\n",
       "      <td>252.000000</td>\n",
       "      <td>5.0</td>\n",
       "      <td>80.0</td>\n",
       "      <td>86.0</td>\n",
       "      <td>6.0</td>\n",
       "      <td>0.0</td>\n",
       "      <td>1.0</td>\n",
       "    </tr>\n",
       "    <tr>\n",
       "      <th>2</th>\n",
       "      <td>sales</td>\n",
       "      <td>medium</td>\n",
       "      <td>289.666667</td>\n",
       "      <td>7.0</td>\n",
       "      <td>11.0</td>\n",
       "      <td>88.0</td>\n",
       "      <td>4.0</td>\n",
       "      <td>0.0</td>\n",
       "      <td>1.0</td>\n",
       "    </tr>\n",
       "    <tr>\n",
       "      <th>3</th>\n",
       "      <td>sales</td>\n",
       "      <td>low</td>\n",
       "      <td>275.666667</td>\n",
       "      <td>5.0</td>\n",
       "      <td>72.0</td>\n",
       "      <td>87.0</td>\n",
       "      <td>5.0</td>\n",
       "      <td>0.0</td>\n",
       "      <td>1.0</td>\n",
       "    </tr>\n",
       "    <tr>\n",
       "      <th>4</th>\n",
       "      <td>sales</td>\n",
       "      <td>low</td>\n",
       "      <td>292.333333</td>\n",
       "      <td>2.0</td>\n",
       "      <td>37.0</td>\n",
       "      <td>52.0</td>\n",
       "      <td>3.0</td>\n",
       "      <td>0.0</td>\n",
       "      <td>1.0</td>\n",
       "    </tr>\n",
       "  </tbody>\n",
       "</table>\n",
       "</div>"
      ],
      "text/plain": [
       "  department  salary  mean_work_last_3_months  number_projects  \\\n",
       "0      sales     low               266.000000              2.0   \n",
       "1      sales  medium               252.000000              5.0   \n",
       "2      sales  medium               289.666667              7.0   \n",
       "3      sales     low               275.666667              5.0   \n",
       "4      sales     low               292.333333              2.0   \n",
       "\n",
       "   satisfaction_level  last_evaluation  time_in_company  work_accident  left  \n",
       "0                38.0             53.0              3.0            0.0   1.0  \n",
       "1                80.0             86.0              6.0            0.0   1.0  \n",
       "2                11.0             88.0              4.0            0.0   1.0  \n",
       "3                72.0             87.0              5.0            0.0   1.0  \n",
       "4                37.0             52.0              3.0            0.0   1.0  "
      ]
     },
     "execution_count": 9,
     "metadata": {},
     "output_type": "execute_result"
    }
   ],
   "source": [
    "df.head()"
   ]
  },
  {
   "cell_type": "markdown",
   "id": "2b4fa52c",
   "metadata": {},
   "source": [
    "#### Verificando os registros missing."
   ]
  },
  {
   "cell_type": "code",
   "execution_count": 10,
   "id": "65e92b9c",
   "metadata": {},
   "outputs": [
    {
     "data": {
      "text/plain": [
       "department                 1\n",
       "salary                     1\n",
       "mean_work_last_3_months    0\n",
       "number_projects            1\n",
       "satisfaction_level         1\n",
       "last_evaluation            1\n",
       "time_in_company            1\n",
       "work_accident              1\n",
       "left                       1\n",
       "dtype: int64"
      ]
     },
     "execution_count": 10,
     "metadata": {},
     "output_type": "execute_result"
    }
   ],
   "source": [
    "df.isnull().sum()"
   ]
  },
  {
   "cell_type": "code",
   "execution_count": 11,
   "id": "a6559f2c",
   "metadata": {},
   "outputs": [
    {
     "data": {
      "text/html": [
       "<div>\n",
       "<style scoped>\n",
       "    .dataframe tbody tr th:only-of-type {\n",
       "        vertical-align: middle;\n",
       "    }\n",
       "\n",
       "    .dataframe tbody tr th {\n",
       "        vertical-align: top;\n",
       "    }\n",
       "\n",
       "    .dataframe thead th {\n",
       "        text-align: right;\n",
       "    }\n",
       "</style>\n",
       "<table border=\"1\" class=\"dataframe\">\n",
       "  <thead>\n",
       "    <tr style=\"text-align: right;\">\n",
       "      <th></th>\n",
       "      <th>department</th>\n",
       "      <th>salary</th>\n",
       "      <th>mean_work_last_3_months</th>\n",
       "      <th>number_projects</th>\n",
       "      <th>satisfaction_level</th>\n",
       "      <th>last_evaluation</th>\n",
       "      <th>time_in_company</th>\n",
       "      <th>work_accident</th>\n",
       "      <th>left</th>\n",
       "    </tr>\n",
       "  </thead>\n",
       "  <tbody>\n",
       "    <tr>\n",
       "      <th>0</th>\n",
       "      <td>sales</td>\n",
       "      <td>low</td>\n",
       "      <td>266.000000</td>\n",
       "      <td>2.0</td>\n",
       "      <td>38.0</td>\n",
       "      <td>53.0</td>\n",
       "      <td>3.0</td>\n",
       "      <td>0.0</td>\n",
       "      <td>1.0</td>\n",
       "    </tr>\n",
       "    <tr>\n",
       "      <th>1</th>\n",
       "      <td>sales</td>\n",
       "      <td>medium</td>\n",
       "      <td>252.000000</td>\n",
       "      <td>5.0</td>\n",
       "      <td>80.0</td>\n",
       "      <td>86.0</td>\n",
       "      <td>6.0</td>\n",
       "      <td>0.0</td>\n",
       "      <td>1.0</td>\n",
       "    </tr>\n",
       "    <tr>\n",
       "      <th>2</th>\n",
       "      <td>sales</td>\n",
       "      <td>medium</td>\n",
       "      <td>289.666667</td>\n",
       "      <td>7.0</td>\n",
       "      <td>11.0</td>\n",
       "      <td>88.0</td>\n",
       "      <td>4.0</td>\n",
       "      <td>0.0</td>\n",
       "      <td>1.0</td>\n",
       "    </tr>\n",
       "    <tr>\n",
       "      <th>3</th>\n",
       "      <td>sales</td>\n",
       "      <td>low</td>\n",
       "      <td>275.666667</td>\n",
       "      <td>5.0</td>\n",
       "      <td>72.0</td>\n",
       "      <td>87.0</td>\n",
       "      <td>5.0</td>\n",
       "      <td>0.0</td>\n",
       "      <td>1.0</td>\n",
       "    </tr>\n",
       "    <tr>\n",
       "      <th>4</th>\n",
       "      <td>sales</td>\n",
       "      <td>low</td>\n",
       "      <td>292.333333</td>\n",
       "      <td>2.0</td>\n",
       "      <td>37.0</td>\n",
       "      <td>52.0</td>\n",
       "      <td>3.0</td>\n",
       "      <td>0.0</td>\n",
       "      <td>1.0</td>\n",
       "    </tr>\n",
       "    <tr>\n",
       "      <th>...</th>\n",
       "      <td>...</td>\n",
       "      <td>...</td>\n",
       "      <td>...</td>\n",
       "      <td>...</td>\n",
       "      <td>...</td>\n",
       "      <td>...</td>\n",
       "      <td>...</td>\n",
       "      <td>...</td>\n",
       "      <td>...</td>\n",
       "    </tr>\n",
       "    <tr>\n",
       "      <th>14995</th>\n",
       "      <td>technical</td>\n",
       "      <td>low</td>\n",
       "      <td>253.333333</td>\n",
       "      <td>2.0</td>\n",
       "      <td>37.0</td>\n",
       "      <td>48.0</td>\n",
       "      <td>3.0</td>\n",
       "      <td>0.0</td>\n",
       "      <td>1.0</td>\n",
       "    </tr>\n",
       "    <tr>\n",
       "      <th>14996</th>\n",
       "      <td>technical</td>\n",
       "      <td>medium</td>\n",
       "      <td>288.000000</td>\n",
       "      <td>2.0</td>\n",
       "      <td>37.0</td>\n",
       "      <td>53.0</td>\n",
       "      <td>3.0</td>\n",
       "      <td>0.0</td>\n",
       "      <td>1.0</td>\n",
       "    </tr>\n",
       "    <tr>\n",
       "      <th>14997</th>\n",
       "      <td>support</td>\n",
       "      <td>low</td>\n",
       "      <td>272.000000</td>\n",
       "      <td>6.0</td>\n",
       "      <td>11.0</td>\n",
       "      <td>96.0</td>\n",
       "      <td>4.0</td>\n",
       "      <td>0.0</td>\n",
       "      <td>1.0</td>\n",
       "    </tr>\n",
       "    <tr>\n",
       "      <th>14998</th>\n",
       "      <td>support</td>\n",
       "      <td>low</td>\n",
       "      <td>276.666667</td>\n",
       "      <td>2.0</td>\n",
       "      <td>37.0</td>\n",
       "      <td>52.0</td>\n",
       "      <td>3.0</td>\n",
       "      <td>0.0</td>\n",
       "      <td>1.0</td>\n",
       "    </tr>\n",
       "    <tr>\n",
       "      <th>14999</th>\n",
       "      <td>NaN</td>\n",
       "      <td>NaN</td>\n",
       "      <td>261.000000</td>\n",
       "      <td>NaN</td>\n",
       "      <td>NaN</td>\n",
       "      <td>NaN</td>\n",
       "      <td>NaN</td>\n",
       "      <td>NaN</td>\n",
       "      <td>NaN</td>\n",
       "    </tr>\n",
       "  </tbody>\n",
       "</table>\n",
       "<p>15000 rows × 9 columns</p>\n",
       "</div>"
      ],
      "text/plain": [
       "      department  salary  mean_work_last_3_months  number_projects  \\\n",
       "0          sales     low               266.000000              2.0   \n",
       "1          sales  medium               252.000000              5.0   \n",
       "2          sales  medium               289.666667              7.0   \n",
       "3          sales     low               275.666667              5.0   \n",
       "4          sales     low               292.333333              2.0   \n",
       "...          ...     ...                      ...              ...   \n",
       "14995  technical     low               253.333333              2.0   \n",
       "14996  technical  medium               288.000000              2.0   \n",
       "14997    support     low               272.000000              6.0   \n",
       "14998    support     low               276.666667              2.0   \n",
       "14999        NaN     NaN               261.000000              NaN   \n",
       "\n",
       "       satisfaction_level  last_evaluation  time_in_company  work_accident  \\\n",
       "0                    38.0             53.0              3.0            0.0   \n",
       "1                    80.0             86.0              6.0            0.0   \n",
       "2                    11.0             88.0              4.0            0.0   \n",
       "3                    72.0             87.0              5.0            0.0   \n",
       "4                    37.0             52.0              3.0            0.0   \n",
       "...                   ...              ...              ...            ...   \n",
       "14995                37.0             48.0              3.0            0.0   \n",
       "14996                37.0             53.0              3.0            0.0   \n",
       "14997                11.0             96.0              4.0            0.0   \n",
       "14998                37.0             52.0              3.0            0.0   \n",
       "14999                 NaN              NaN              NaN            NaN   \n",
       "\n",
       "       left  \n",
       "0       1.0  \n",
       "1       1.0  \n",
       "2       1.0  \n",
       "3       1.0  \n",
       "4       1.0  \n",
       "...     ...  \n",
       "14995   1.0  \n",
       "14996   1.0  \n",
       "14997   1.0  \n",
       "14998   1.0  \n",
       "14999   NaN  \n",
       "\n",
       "[15000 rows x 9 columns]"
      ]
     },
     "execution_count": 11,
     "metadata": {},
     "output_type": "execute_result"
    }
   ],
   "source": [
    "df[df.notnull()]"
   ]
  },
  {
   "cell_type": "code",
   "execution_count": 12,
   "id": "42ea9765",
   "metadata": {},
   "outputs": [],
   "source": [
    "df = df[:14998]"
   ]
  },
  {
   "cell_type": "markdown",
   "id": "6345aae2",
   "metadata": {},
   "source": [
    "#### Alterando os tipos de dados."
   ]
  },
  {
   "cell_type": "code",
   "execution_count": 13,
   "id": "3bed250e",
   "metadata": {},
   "outputs": [],
   "source": [
    "df[\"number_projects\"] = df[\"number_projects\"].astype(int)\n",
    "df[\"mean_work_last_3_months\"] = df[\"mean_work_last_3_months\"].astype(int)\n",
    "df[\"time_in_company\"] = df[\"time_in_company\"].astype(int)\n",
    "df[\"work_accident\"] = df[\"work_accident\"].astype(int)\n",
    "df[\"left\"] = df[\"left\"].astype(int)"
   ]
  },
  {
   "cell_type": "code",
   "execution_count": 14,
   "id": "d41aab97",
   "metadata": {},
   "outputs": [
    {
     "name": "stdout",
     "output_type": "stream",
     "text": [
      "<class 'pandas.core.frame.DataFrame'>\n",
      "RangeIndex: 14998 entries, 0 to 14997\n",
      "Data columns (total 9 columns):\n",
      " #   Column                   Non-Null Count  Dtype  \n",
      "---  ------                   --------------  -----  \n",
      " 0   department               14998 non-null  object \n",
      " 1   salary                   14998 non-null  object \n",
      " 2   mean_work_last_3_months  14998 non-null  int64  \n",
      " 3   number_projects          14998 non-null  int64  \n",
      " 4   satisfaction_level       14998 non-null  float64\n",
      " 5   last_evaluation          14998 non-null  float64\n",
      " 6   time_in_company          14998 non-null  int64  \n",
      " 7   work_accident            14998 non-null  int64  \n",
      " 8   left                     14998 non-null  int64  \n",
      "dtypes: float64(2), int64(5), object(2)\n",
      "memory usage: 1.0+ MB\n"
     ]
    }
   ],
   "source": [
    "df.info()"
   ]
  },
  {
   "cell_type": "code",
   "execution_count": 15,
   "id": "b3be9995",
   "metadata": {},
   "outputs": [
    {
     "data": {
      "text/html": [
       "<div>\n",
       "<style scoped>\n",
       "    .dataframe tbody tr th:only-of-type {\n",
       "        vertical-align: middle;\n",
       "    }\n",
       "\n",
       "    .dataframe tbody tr th {\n",
       "        vertical-align: top;\n",
       "    }\n",
       "\n",
       "    .dataframe thead th {\n",
       "        text-align: right;\n",
       "    }\n",
       "</style>\n",
       "<table border=\"1\" class=\"dataframe\">\n",
       "  <thead>\n",
       "    <tr style=\"text-align: right;\">\n",
       "      <th></th>\n",
       "      <th>department</th>\n",
       "      <th>salary</th>\n",
       "      <th>mean_work_last_3_months</th>\n",
       "      <th>number_projects</th>\n",
       "      <th>satisfaction_level</th>\n",
       "      <th>last_evaluation</th>\n",
       "      <th>time_in_company</th>\n",
       "      <th>work_accident</th>\n",
       "      <th>left</th>\n",
       "    </tr>\n",
       "  </thead>\n",
       "  <tbody>\n",
       "    <tr>\n",
       "      <th>0</th>\n",
       "      <td>sales</td>\n",
       "      <td>low</td>\n",
       "      <td>266</td>\n",
       "      <td>2</td>\n",
       "      <td>38.0</td>\n",
       "      <td>53.0</td>\n",
       "      <td>3</td>\n",
       "      <td>0</td>\n",
       "      <td>1</td>\n",
       "    </tr>\n",
       "    <tr>\n",
       "      <th>1</th>\n",
       "      <td>sales</td>\n",
       "      <td>medium</td>\n",
       "      <td>252</td>\n",
       "      <td>5</td>\n",
       "      <td>80.0</td>\n",
       "      <td>86.0</td>\n",
       "      <td>6</td>\n",
       "      <td>0</td>\n",
       "      <td>1</td>\n",
       "    </tr>\n",
       "    <tr>\n",
       "      <th>2</th>\n",
       "      <td>sales</td>\n",
       "      <td>medium</td>\n",
       "      <td>289</td>\n",
       "      <td>7</td>\n",
       "      <td>11.0</td>\n",
       "      <td>88.0</td>\n",
       "      <td>4</td>\n",
       "      <td>0</td>\n",
       "      <td>1</td>\n",
       "    </tr>\n",
       "    <tr>\n",
       "      <th>3</th>\n",
       "      <td>sales</td>\n",
       "      <td>low</td>\n",
       "      <td>275</td>\n",
       "      <td>5</td>\n",
       "      <td>72.0</td>\n",
       "      <td>87.0</td>\n",
       "      <td>5</td>\n",
       "      <td>0</td>\n",
       "      <td>1</td>\n",
       "    </tr>\n",
       "    <tr>\n",
       "      <th>4</th>\n",
       "      <td>sales</td>\n",
       "      <td>low</td>\n",
       "      <td>292</td>\n",
       "      <td>2</td>\n",
       "      <td>37.0</td>\n",
       "      <td>52.0</td>\n",
       "      <td>3</td>\n",
       "      <td>0</td>\n",
       "      <td>1</td>\n",
       "    </tr>\n",
       "  </tbody>\n",
       "</table>\n",
       "</div>"
      ],
      "text/plain": [
       "  department  salary  mean_work_last_3_months  number_projects  \\\n",
       "0      sales     low                      266                2   \n",
       "1      sales  medium                      252                5   \n",
       "2      sales  medium                      289                7   \n",
       "3      sales     low                      275                5   \n",
       "4      sales     low                      292                2   \n",
       "\n",
       "   satisfaction_level  last_evaluation  time_in_company  work_accident  left  \n",
       "0                38.0             53.0                3              0     1  \n",
       "1                80.0             86.0                6              0     1  \n",
       "2                11.0             88.0                4              0     1  \n",
       "3                72.0             87.0                5              0     1  \n",
       "4                37.0             52.0                3              0     1  "
      ]
     },
     "execution_count": 15,
     "metadata": {},
     "output_type": "execute_result"
    }
   ],
   "source": [
    "df.head()"
   ]
  },
  {
   "cell_type": "code",
   "execution_count": 16,
   "id": "4c53b942",
   "metadata": {},
   "outputs": [],
   "source": [
    "df = df[:14998]"
   ]
  },
  {
   "cell_type": "markdown",
   "id": "0732373c",
   "metadata": {},
   "source": [
    "#### Renomeando atributos"
   ]
  },
  {
   "cell_type": "code",
   "execution_count": 17,
   "id": "e51e02de",
   "metadata": {},
   "outputs": [],
   "source": [
    "df = df.rename(columns={'satisfaction_level': 'satisfaction', \n",
    "                        'last_evaluation': 'evaluation',\n",
    "                        'number_projects': 'projectCount',\n",
    "                        'mean_work_last_3_months': 'averageMonthlyHours',\n",
    "                        'time_in_company': 'yearsAtCompany',\n",
    "                        'work_accident': 'workAccident',\n",
    "                        'left' : 'turnover'\n",
    "                        })"
   ]
  },
  {
   "cell_type": "code",
   "execution_count": 18,
   "id": "8df7f8fd",
   "metadata": {
    "scrolled": true
   },
   "outputs": [
    {
     "data": {
      "text/html": [
       "<div>\n",
       "<style scoped>\n",
       "    .dataframe tbody tr th:only-of-type {\n",
       "        vertical-align: middle;\n",
       "    }\n",
       "\n",
       "    .dataframe tbody tr th {\n",
       "        vertical-align: top;\n",
       "    }\n",
       "\n",
       "    .dataframe thead th {\n",
       "        text-align: right;\n",
       "    }\n",
       "</style>\n",
       "<table border=\"1\" class=\"dataframe\">\n",
       "  <thead>\n",
       "    <tr style=\"text-align: right;\">\n",
       "      <th></th>\n",
       "      <th>department</th>\n",
       "      <th>salary</th>\n",
       "      <th>averageMonthlyHours</th>\n",
       "      <th>projectCount</th>\n",
       "      <th>satisfaction</th>\n",
       "      <th>evaluation</th>\n",
       "      <th>yearsAtCompany</th>\n",
       "      <th>workAccident</th>\n",
       "      <th>turnover</th>\n",
       "    </tr>\n",
       "  </thead>\n",
       "  <tbody>\n",
       "    <tr>\n",
       "      <th>0</th>\n",
       "      <td>sales</td>\n",
       "      <td>low</td>\n",
       "      <td>266</td>\n",
       "      <td>2</td>\n",
       "      <td>38.0</td>\n",
       "      <td>53.0</td>\n",
       "      <td>3</td>\n",
       "      <td>0</td>\n",
       "      <td>1</td>\n",
       "    </tr>\n",
       "    <tr>\n",
       "      <th>1</th>\n",
       "      <td>sales</td>\n",
       "      <td>medium</td>\n",
       "      <td>252</td>\n",
       "      <td>5</td>\n",
       "      <td>80.0</td>\n",
       "      <td>86.0</td>\n",
       "      <td>6</td>\n",
       "      <td>0</td>\n",
       "      <td>1</td>\n",
       "    </tr>\n",
       "    <tr>\n",
       "      <th>2</th>\n",
       "      <td>sales</td>\n",
       "      <td>medium</td>\n",
       "      <td>289</td>\n",
       "      <td>7</td>\n",
       "      <td>11.0</td>\n",
       "      <td>88.0</td>\n",
       "      <td>4</td>\n",
       "      <td>0</td>\n",
       "      <td>1</td>\n",
       "    </tr>\n",
       "    <tr>\n",
       "      <th>3</th>\n",
       "      <td>sales</td>\n",
       "      <td>low</td>\n",
       "      <td>275</td>\n",
       "      <td>5</td>\n",
       "      <td>72.0</td>\n",
       "      <td>87.0</td>\n",
       "      <td>5</td>\n",
       "      <td>0</td>\n",
       "      <td>1</td>\n",
       "    </tr>\n",
       "    <tr>\n",
       "      <th>4</th>\n",
       "      <td>sales</td>\n",
       "      <td>low</td>\n",
       "      <td>292</td>\n",
       "      <td>2</td>\n",
       "      <td>37.0</td>\n",
       "      <td>52.0</td>\n",
       "      <td>3</td>\n",
       "      <td>0</td>\n",
       "      <td>1</td>\n",
       "    </tr>\n",
       "  </tbody>\n",
       "</table>\n",
       "</div>"
      ],
      "text/plain": [
       "  department  salary  averageMonthlyHours  projectCount  satisfaction  \\\n",
       "0      sales     low                  266             2          38.0   \n",
       "1      sales  medium                  252             5          80.0   \n",
       "2      sales  medium                  289             7          11.0   \n",
       "3      sales     low                  275             5          72.0   \n",
       "4      sales     low                  292             2          37.0   \n",
       "\n",
       "   evaluation  yearsAtCompany  workAccident  turnover  \n",
       "0        53.0               3             0         1  \n",
       "1        86.0               6             0         1  \n",
       "2        88.0               4             0         1  \n",
       "3        87.0               5             0         1  \n",
       "4        52.0               3             0         1  "
      ]
     },
     "execution_count": 18,
     "metadata": {},
     "output_type": "execute_result"
    }
   ],
   "source": [
    "df.head()"
   ]
  },
  {
   "cell_type": "markdown",
   "id": "fcc89e8b",
   "metadata": {},
   "source": [
    "###  Importancia de Features"
   ]
  },
  {
   "cell_type": "markdown",
   "id": "d37217ce",
   "metadata": {},
   "source": [
    "#### Converte os atributos categoricos valores numéricos."
   ]
  },
  {
   "cell_type": "code",
   "execution_count": 19,
   "id": "82cf4bb1",
   "metadata": {},
   "outputs": [],
   "source": [
    "df[\"department\"] = df[\"department\"].astype('category').cat.codes\n",
    "df[\"salary\"] = df[\"salary\"].astype('category').cat.codes"
   ]
  },
  {
   "cell_type": "code",
   "execution_count": 20,
   "id": "8a44672c",
   "metadata": {},
   "outputs": [
    {
     "data": {
      "text/html": [
       "<div>\n",
       "<style scoped>\n",
       "    .dataframe tbody tr th:only-of-type {\n",
       "        vertical-align: middle;\n",
       "    }\n",
       "\n",
       "    .dataframe tbody tr th {\n",
       "        vertical-align: top;\n",
       "    }\n",
       "\n",
       "    .dataframe thead th {\n",
       "        text-align: right;\n",
       "    }\n",
       "</style>\n",
       "<table border=\"1\" class=\"dataframe\">\n",
       "  <thead>\n",
       "    <tr style=\"text-align: right;\">\n",
       "      <th></th>\n",
       "      <th>department</th>\n",
       "      <th>salary</th>\n",
       "      <th>averageMonthlyHours</th>\n",
       "      <th>projectCount</th>\n",
       "      <th>satisfaction</th>\n",
       "      <th>evaluation</th>\n",
       "      <th>yearsAtCompany</th>\n",
       "      <th>workAccident</th>\n",
       "      <th>turnover</th>\n",
       "    </tr>\n",
       "  </thead>\n",
       "  <tbody>\n",
       "    <tr>\n",
       "      <th>0</th>\n",
       "      <td>7</td>\n",
       "      <td>1</td>\n",
       "      <td>266</td>\n",
       "      <td>2</td>\n",
       "      <td>38.0</td>\n",
       "      <td>53.0</td>\n",
       "      <td>3</td>\n",
       "      <td>0</td>\n",
       "      <td>1</td>\n",
       "    </tr>\n",
       "    <tr>\n",
       "      <th>1</th>\n",
       "      <td>7</td>\n",
       "      <td>2</td>\n",
       "      <td>252</td>\n",
       "      <td>5</td>\n",
       "      <td>80.0</td>\n",
       "      <td>86.0</td>\n",
       "      <td>6</td>\n",
       "      <td>0</td>\n",
       "      <td>1</td>\n",
       "    </tr>\n",
       "    <tr>\n",
       "      <th>2</th>\n",
       "      <td>7</td>\n",
       "      <td>2</td>\n",
       "      <td>289</td>\n",
       "      <td>7</td>\n",
       "      <td>11.0</td>\n",
       "      <td>88.0</td>\n",
       "      <td>4</td>\n",
       "      <td>0</td>\n",
       "      <td>1</td>\n",
       "    </tr>\n",
       "    <tr>\n",
       "      <th>3</th>\n",
       "      <td>7</td>\n",
       "      <td>1</td>\n",
       "      <td>275</td>\n",
       "      <td>5</td>\n",
       "      <td>72.0</td>\n",
       "      <td>87.0</td>\n",
       "      <td>5</td>\n",
       "      <td>0</td>\n",
       "      <td>1</td>\n",
       "    </tr>\n",
       "    <tr>\n",
       "      <th>4</th>\n",
       "      <td>7</td>\n",
       "      <td>1</td>\n",
       "      <td>292</td>\n",
       "      <td>2</td>\n",
       "      <td>37.0</td>\n",
       "      <td>52.0</td>\n",
       "      <td>3</td>\n",
       "      <td>0</td>\n",
       "      <td>1</td>\n",
       "    </tr>\n",
       "  </tbody>\n",
       "</table>\n",
       "</div>"
      ],
      "text/plain": [
       "   department  salary  averageMonthlyHours  projectCount  satisfaction  \\\n",
       "0           7       1                  266             2          38.0   \n",
       "1           7       2                  252             5          80.0   \n",
       "2           7       2                  289             7          11.0   \n",
       "3           7       1                  275             5          72.0   \n",
       "4           7       1                  292             2          37.0   \n",
       "\n",
       "   evaluation  yearsAtCompany  workAccident  turnover  \n",
       "0        53.0               3             0         1  \n",
       "1        86.0               6             0         1  \n",
       "2        88.0               4             0         1  \n",
       "3        87.0               5             0         1  \n",
       "4        52.0               3             0         1  "
      ]
     },
     "execution_count": 20,
     "metadata": {},
     "output_type": "execute_result"
    }
   ],
   "source": [
    "df.head()"
   ]
  },
  {
   "cell_type": "markdown",
   "id": "702c4176",
   "metadata": {},
   "source": [
    "#### Separando os conjuntos de dados."
   ]
  },
  {
   "cell_type": "code",
   "execution_count": 21,
   "id": "d1bfeadb",
   "metadata": {},
   "outputs": [],
   "source": [
    "target_name = 'turnover'\n",
    "X = df.drop('turnover', axis=1)\n",
    "y = df[target_name]"
   ]
  },
  {
   "cell_type": "markdown",
   "id": "884842ca",
   "metadata": {},
   "source": [
    "#### Transformando os dados."
   ]
  },
  {
   "cell_type": "code",
   "execution_count": 22,
   "id": "9c78bc04",
   "metadata": {},
   "outputs": [],
   "source": [
    "from sklearn.preprocessing import MinMaxScaler"
   ]
  },
  {
   "cell_type": "code",
   "execution_count": 23,
   "id": "7a8ffe3c",
   "metadata": {},
   "outputs": [],
   "source": [
    "scaler = MinMaxScaler()"
   ]
  },
  {
   "cell_type": "code",
   "execution_count": 24,
   "id": "67d7112f",
   "metadata": {},
   "outputs": [],
   "source": [
    "X = scaler.fit_transform(X)"
   ]
  },
  {
   "cell_type": "code",
   "execution_count": 25,
   "id": "360fa4fb",
   "metadata": {},
   "outputs": [
    {
     "data": {
      "text/plain": [
       "array([[0.77777778, 0.5       , 0.38202247, ..., 0.265625  , 0.125     ,\n",
       "        0.        ],\n",
       "       [0.77777778, 1.        , 0.2247191 , ..., 0.78125   , 0.5       ,\n",
       "        0.        ],\n",
       "       [0.77777778, 1.        , 0.64044944, ..., 0.8125    , 0.25      ,\n",
       "        0.        ],\n",
       "       ...,\n",
       "       [1.        , 0.5       , 0.23595506, ..., 0.1875    , 0.125     ,\n",
       "        0.        ],\n",
       "       [1.        , 1.        , 0.62921348, ..., 0.265625  , 0.125     ,\n",
       "        0.        ],\n",
       "       [0.88888889, 0.5       , 0.4494382 , ..., 0.9375    , 0.25      ,\n",
       "        0.        ]])"
      ]
     },
     "execution_count": 25,
     "metadata": {},
     "output_type": "execute_result"
    }
   ],
   "source": [
    "X"
   ]
  },
  {
   "cell_type": "markdown",
   "id": "3f13d4d6",
   "metadata": {},
   "source": [
    "#### Separando os conjuntos."
   ]
  },
  {
   "cell_type": "code",
   "execution_count": 26,
   "id": "965c31d7",
   "metadata": {},
   "outputs": [],
   "source": [
    "from sklearn.model_selection import train_test_split"
   ]
  },
  {
   "cell_type": "code",
   "execution_count": 27,
   "id": "ab76666d",
   "metadata": {},
   "outputs": [],
   "source": [
    "X_train, X_test, y_train, y_test = train_test_split(\n",
    "        X\n",
    "       ,y\n",
    "       ,test_size = 0.2\n",
    "       ,random_state = 123\n",
    "       ,stratify = y #como a base esta desbalanceada devemos manter a representacao das classes, para evitar viezes.\n",
    ")"
   ]
  },
  {
   "cell_type": "markdown",
   "id": "648148e9",
   "metadata": {},
   "source": [
    "#### Treinando o algoritmo de arvore de decisão."
   ]
  },
  {
   "cell_type": "code",
   "execution_count": 28,
   "id": "f99c9c51",
   "metadata": {},
   "outputs": [],
   "source": [
    "from sklearn.tree import DecisionTreeClassifier"
   ]
  },
  {
   "cell_type": "code",
   "execution_count": 29,
   "id": "b5b14190",
   "metadata": {},
   "outputs": [],
   "source": [
    "dtree = DecisionTreeClassifier()\n",
    "dtree = dtree.fit(X_train,y_train)"
   ]
  },
  {
   "cell_type": "code",
   "execution_count": 30,
   "id": "ccf50fa2",
   "metadata": {},
   "outputs": [],
   "source": [
    "importances = dtree.feature_importances_\n",
    "feat_names = df.drop(['turnover'],axis=1).columns"
   ]
  },
  {
   "cell_type": "code",
   "execution_count": 31,
   "id": "5479849c",
   "metadata": {},
   "outputs": [
    {
     "data": {
      "image/png": "[encoded data removed]",
      "text/plain": [
       "<Figure size 864x288 with 1 Axes>"
      ]
     },
     "metadata": {
      "needs_background": "light"
     },
     "output_type": "display_data"
    }
   ],
   "source": [
    "indices = np.argsort(importances)[::-1]\n",
    "plt.figure(figsize=(12,4))\n",
    "plt.title(\"Feature importances by DecisionTreeClassifier\")\n",
    "plt.bar(range(len(indices)), importances[indices], color='lightblue',  align=\"center\")\n",
    "plt.xticks(range(len(indices)), feat_names[indices], rotation='vertical',fontsize=14)\n",
    "plt.xlim([-1, len(indices)])\n",
    "plt.show()"
   ]
  },
  {
   "cell_type": "markdown",
   "id": "7a2f50ad",
   "metadata": {},
   "source": [
    "#### Filtrando apenas os atributos relevantes."
   ]
  },
  {
   "cell_type": "code",
   "execution_count": 32,
   "id": "7363c56e",
   "metadata": {},
   "outputs": [],
   "source": [
    "X = df[[\"satisfaction\",\"evaluation\",\"averageMonthlyHours\",\"yearsAtCompany\"]]"
   ]
  },
  {
   "cell_type": "markdown",
   "id": "c608f61f",
   "metadata": {},
   "source": [
    "#### Separando os conjuntos de dados."
   ]
  },
  {
   "cell_type": "code",
   "execution_count": 33,
   "id": "b7bfe235",
   "metadata": {},
   "outputs": [],
   "source": [
    "scaler = MinMaxScaler()"
   ]
  },
  {
   "cell_type": "code",
   "execution_count": 34,
   "id": "9ace1d75",
   "metadata": {},
   "outputs": [],
   "source": [
    "X = scaler.fit_transform(X)"
   ]
  },
  {
   "cell_type": "code",
   "execution_count": 35,
   "id": "6df47cb3",
   "metadata": {},
   "outputs": [],
   "source": [
    "X_train, X_test, y_train, y_test = train_test_split(\n",
    "        X\n",
    "       ,y\n",
    "       ,test_size = 0.2\n",
    "       ,random_state = 123\n",
    "       ,stratify = y\n",
    ")"
   ]
  },
  {
   "cell_type": "code",
   "execution_count": 36,
   "id": "ee19664d",
   "metadata": {},
   "outputs": [
    {
     "data": {
      "text/plain": [
       "array([[0.59340659, 0.21875   , 0.40449438, 0.125     ],\n",
       "       [0.        , 0.703125  , 0.41573034, 0.25      ],\n",
       "       [0.3956044 , 0.28125   , 0.58426966, 0.125     ],\n",
       "       ...,\n",
       "       [0.32967033, 0.3125    , 0.59550562, 0.125     ],\n",
       "       [0.92307692, 0.28125   , 0.46067416, 0.        ],\n",
       "       [0.51648352, 0.5       , 0.53932584, 0.125     ]])"
      ]
     },
     "execution_count": 36,
     "metadata": {},
     "output_type": "execute_result"
    }
   ],
   "source": [
    "X_train"
   ]
  },
  {
   "cell_type": "markdown",
   "id": "233aef35",
   "metadata": {},
   "source": [
    "#### Função do modelo de base."
   ]
  },
  {
   "cell_type": "code",
   "execution_count": 37,
   "id": "862ce2ee",
   "metadata": {},
   "outputs": [],
   "source": [
    "def base_rate_model(X) :\n",
    "    y = np.zeros(X.shape[0])\n",
    "    return y"
   ]
  },
  {
   "cell_type": "markdown",
   "id": "9409f9ad",
   "metadata": {},
   "source": [
    "#### Importando métodos de métrica de avaliação."
   ]
  },
  {
   "cell_type": "code",
   "execution_count": 38,
   "id": "4c3e5be0",
   "metadata": {},
   "outputs": [],
   "source": [
    "from sklearn.metrics import roc_auc_score\n",
    "from sklearn.metrics import accuracy_score\n",
    "from sklearn.metrics import classification_report"
   ]
  },
  {
   "cell_type": "code",
   "execution_count": 39,
   "id": "f5a951ed",
   "metadata": {},
   "outputs": [],
   "source": [
    "def accuracy_result(y_test,y_predict):\n",
    "    acc = accuracy_score(y_test, y_predict)\n",
    "    print (\"Accuracy = %2.2f\" % acc)"
   ]
  },
  {
   "cell_type": "code",
   "execution_count": 40,
   "id": "c26617eb",
   "metadata": {},
   "outputs": [],
   "source": [
    "def roc_classification_report_results(model,y_test,y_predict):\n",
    "    roc_ = roc_auc_score(y_test, y_predict)\n",
    "    classfication_report = classification_report(y_test, y_predict)\n",
    "    \n",
    "    print (\"\\n{} AUC = {}\\n\".format(model, roc_))\n",
    "    print(classfication_report)"
   ]
  },
  {
   "cell_type": "markdown",
   "id": "08b4adeb",
   "metadata": {},
   "source": [
    "#### Análise do modelo de baseline"
   ]
  },
  {
   "cell_type": "code",
   "execution_count": 41,
   "id": "0aebf1fb",
   "metadata": {},
   "outputs": [],
   "source": [
    "y_predict = base_rate_model(X_test)"
   ]
  },
  {
   "cell_type": "code",
   "execution_count": 42,
   "id": "02804d58",
   "metadata": {},
   "outputs": [
    {
     "name": "stdout",
     "output_type": "stream",
     "text": [
      "Accuracy = 0.76\n"
     ]
    }
   ],
   "source": [
    "accuracy_result(y_test, y_predict)"
   ]
  },
  {
   "cell_type": "code",
   "execution_count": 43,
   "id": "905cac5f",
   "metadata": {},
   "outputs": [
    {
     "name": "stdout",
     "output_type": "stream",
     "text": [
      "\n",
      "Base Model AUC = 0.5\n",
      "\n",
      "              precision    recall  f1-score   support\n",
      "\n",
      "           0       0.76      1.00      0.86      2286\n",
      "           1       0.00      0.00      0.00       714\n",
      "\n",
      "    accuracy                           0.76      3000\n",
      "   macro avg       0.38      0.50      0.43      3000\n",
      "weighted avg       0.58      0.76      0.66      3000\n",
      "\n"
     ]
    },
    {
     "name": "stderr",
     "output_type": "stream",
     "text": [
      "/opt/anaconda3/envs/pycaret/lib/python3.8/site-packages/sklearn/metrics/_classification.py:1221: UndefinedMetricWarning: Precision and F-score are ill-defined and being set to 0.0 in labels with no predicted samples. Use `zero_division` parameter to control this behavior.\n",
      "  _warn_prf(average, modifier, msg_start, len(result))\n"
     ]
    }
   ],
   "source": [
    "roc_classification_report_results(\"Base Model\", y_test, y_predict)"
   ]
  },
  {
   "cell_type": "markdown",
   "id": "04850a75",
   "metadata": {},
   "source": [
    "### Modelo de Regressão Logística."
   ]
  },
  {
   "cell_type": "markdown",
   "id": "9a11b173",
   "metadata": {},
   "source": [
    "#### Instânciando o algoritmo."
   ]
  },
  {
   "cell_type": "code",
   "execution_count": 44,
   "id": "f9f2bc15",
   "metadata": {},
   "outputs": [],
   "source": [
    "from sklearn.linear_model import LogisticRegression\n",
    "logis = LogisticRegression()"
   ]
  },
  {
   "cell_type": "markdown",
   "id": "a6369bc1",
   "metadata": {},
   "source": [
    "#### Realizando o treinamento."
   ]
  },
  {
   "cell_type": "code",
   "execution_count": 45,
   "id": "3f761af6",
   "metadata": {
    "scrolled": true
   },
   "outputs": [
    {
     "data": {
      "text/plain": [
       "LogisticRegression()"
      ]
     },
     "execution_count": 45,
     "metadata": {},
     "output_type": "execute_result"
    }
   ],
   "source": [
    "logis.fit(X_train, y_train)"
   ]
  },
  {
   "cell_type": "markdown",
   "id": "03651c5a",
   "metadata": {},
   "source": [
    "#### Calculando as predições."
   ]
  },
  {
   "cell_type": "code",
   "execution_count": 46,
   "id": "cd138e3c",
   "metadata": {},
   "outputs": [],
   "source": [
    "y_predict = logis.predict(X_test)"
   ]
  },
  {
   "cell_type": "markdown",
   "id": "ad0e75d9",
   "metadata": {},
   "source": [
    "#### Avaliando o resultado."
   ]
  },
  {
   "cell_type": "code",
   "execution_count": 47,
   "id": "da03dbe1",
   "metadata": {},
   "outputs": [
    {
     "name": "stdout",
     "output_type": "stream",
     "text": [
      "Accuracy = 0.77\n"
     ]
    }
   ],
   "source": [
    "accuracy_result(y_test, y_predict)"
   ]
  },
  {
   "cell_type": "code",
   "execution_count": 48,
   "id": "4800a256",
   "metadata": {},
   "outputs": [
    {
     "name": "stdout",
     "output_type": "stream",
     "text": [
      "\n",
      "Logistic Regression AUC = 0.5406235985207731\n",
      "\n",
      "              precision    recall  f1-score   support\n",
      "\n",
      "           0       0.78      0.97      0.86      2286\n",
      "           1       0.55      0.11      0.18       714\n",
      "\n",
      "    accuracy                           0.77      3000\n",
      "   macro avg       0.66      0.54      0.52      3000\n",
      "weighted avg       0.72      0.77      0.70      3000\n",
      "\n"
     ]
    }
   ],
   "source": [
    "roc_classification_report_results(\"Logistic Regression\", y_test, y_predict)"
   ]
  },
  {
   "cell_type": "markdown",
   "id": "00aaac7c",
   "metadata": {},
   "source": [
    "### Modelo de Arvore de decisão."
   ]
  },
  {
   "cell_type": "markdown",
   "id": "33524aac",
   "metadata": {},
   "source": [
    "#### Instânciando o algoritmo."
   ]
  },
  {
   "cell_type": "code",
   "execution_count": 49,
   "id": "95c50872",
   "metadata": {},
   "outputs": [],
   "source": [
    "from sklearn.tree import DecisionTreeClassifier\n",
    "dtree = DecisionTreeClassifier()"
   ]
  },
  {
   "cell_type": "markdown",
   "id": "3d7ad1c8",
   "metadata": {},
   "source": [
    "#### Realizando o treinamento."
   ]
  },
  {
   "cell_type": "code",
   "execution_count": 50,
   "id": "edcca31f",
   "metadata": {
    "scrolled": true
   },
   "outputs": [],
   "source": [
    "dtree = dtree.fit(X_train,y_train)"
   ]
  },
  {
   "cell_type": "markdown",
   "id": "d3ac4673",
   "metadata": {},
   "source": [
    "#### Calculando as predições."
   ]
  },
  {
   "cell_type": "code",
   "execution_count": 51,
   "id": "9197176d",
   "metadata": {},
   "outputs": [],
   "source": [
    "y_predict = dtree.predict(X_test)"
   ]
  },
  {
   "cell_type": "markdown",
   "id": "56a32296",
   "metadata": {},
   "source": [
    "#### Avaliando o resultado."
   ]
  },
  {
   "cell_type": "code",
   "execution_count": 52,
   "id": "bf8ad9d3",
   "metadata": {},
   "outputs": [
    {
     "name": "stdout",
     "output_type": "stream",
     "text": [
      "Accuracy = 0.75\n"
     ]
    }
   ],
   "source": [
    "accuracy_result(y_test, y_predict)"
   ]
  },
  {
   "cell_type": "code",
   "execution_count": 53,
   "id": "93b86d22",
   "metadata": {},
   "outputs": [
    {
     "name": "stdout",
     "output_type": "stream",
     "text": [
      "\n",
      "Decision Tree AUC = 0.6675893454494659\n",
      "\n",
      "              precision    recall  f1-score   support\n",
      "\n",
      "           0       0.84      0.82      0.83      2286\n",
      "           1       0.47      0.52      0.49       714\n",
      "\n",
      "    accuracy                           0.75      3000\n",
      "   macro avg       0.66      0.67      0.66      3000\n",
      "weighted avg       0.76      0.75      0.75      3000\n",
      "\n"
     ]
    }
   ],
   "source": [
    "roc_classification_report_results(\"Decision Tree\", y_test, y_predict)"
   ]
  },
  {
   "cell_type": "markdown",
   "id": "cd27a5ab",
   "metadata": {},
   "source": [
    "### Modelo de Arvore Aleatória (Random Forest)"
   ]
  },
  {
   "cell_type": "markdown",
   "id": "9b42b9d5",
   "metadata": {},
   "source": [
    "#### Instânciando o algoritmo."
   ]
  },
  {
   "cell_type": "code",
   "execution_count": 54,
   "id": "6dab769b",
   "metadata": {},
   "outputs": [],
   "source": [
    "from sklearn.ensemble import RandomForestClassifier"
   ]
  },
  {
   "cell_type": "code",
   "execution_count": 55,
   "id": "3e0c74f5",
   "metadata": {},
   "outputs": [],
   "source": [
    "rf = RandomForestClassifier()"
   ]
  },
  {
   "cell_type": "markdown",
   "id": "193d0577",
   "metadata": {},
   "source": [
    "#### Realizando o treinamento."
   ]
  },
  {
   "cell_type": "code",
   "execution_count": 56,
   "id": "8469a48a",
   "metadata": {
    "scrolled": true
   },
   "outputs": [],
   "source": [
    "rf = rf.fit(X_train,y_train)"
   ]
  },
  {
   "cell_type": "markdown",
   "id": "3a77f475",
   "metadata": {},
   "source": [
    "#### Calculando as predições."
   ]
  },
  {
   "cell_type": "code",
   "execution_count": 57,
   "id": "58e16f6c",
   "metadata": {},
   "outputs": [],
   "source": [
    "y_predict = rf.predict(X_test)"
   ]
  },
  {
   "cell_type": "markdown",
   "id": "5b56117a",
   "metadata": {},
   "source": [
    "#### Avaliando o resultado."
   ]
  },
  {
   "cell_type": "code",
   "execution_count": 58,
   "id": "ee9583e8",
   "metadata": {},
   "outputs": [
    {
     "name": "stdout",
     "output_type": "stream",
     "text": [
      "Accuracy = 0.83\n"
     ]
    }
   ],
   "source": [
    "accuracy_result(y_test, y_predict)"
   ]
  },
  {
   "cell_type": "code",
   "execution_count": 59,
   "id": "8853f34b",
   "metadata": {},
   "outputs": [
    {
     "name": "stdout",
     "output_type": "stream",
     "text": [
      "\n",
      "Random Forest AUC = 0.727085584890124\n",
      "\n",
      "              precision    recall  f1-score   support\n",
      "\n",
      "           0       0.86      0.92      0.89      2286\n",
      "           1       0.69      0.53      0.60       714\n",
      "\n",
      "    accuracy                           0.83      3000\n",
      "   macro avg       0.78      0.73      0.75      3000\n",
      "weighted avg       0.82      0.83      0.82      3000\n",
      "\n"
     ]
    }
   ],
   "source": [
    "roc_classification_report_results(\"Random Forest\", y_test, y_predict)"
   ]
  },
  {
   "cell_type": "markdown",
   "id": "69e52b1b",
   "metadata": {},
   "source": [
    "### Pycaret"
   ]
  },
  {
   "cell_type": "markdown",
   "id": "421de2bf",
   "metadata": {},
   "source": [
    "#### Importando os métodos."
   ]
  },
  {
   "cell_type": "code",
   "execution_count": 60,
   "id": "0552d213",
   "metadata": {},
   "outputs": [],
   "source": [
    "from pycaret.classification import *"
   ]
  },
  {
   "cell_type": "markdown",
   "id": "2fa945c2",
   "metadata": {},
   "source": [
    "#### Definindo o Setup."
   ]
  },
  {
   "cell_type": "code",
   "execution_count": 61,
   "id": "5de9ab9b",
   "metadata": {
    "scrolled": true,
    "tags": []
   },
   "outputs": [
    {
     "data": {
      "text/html": [
       "<style type=\"text/css\">\n",
       "#T_73112_row29_col1, #T_73112_row44_col1, #T_73112_row58_col1 {\n",
       "  background-color: lightgreen;\n",
       "}\n",
       "</style>\n",
       "<table id=\"T_73112_\">\n",
       "  <thead>\n",
       "    <tr>\n",
       "      <th class=\"blank level0\" >&nbsp;</th>\n",
       "      <th class=\"col_heading level0 col0\" >Description</th>\n",
       "      <th class=\"col_heading level0 col1\" >Value</th>\n",
       "    </tr>\n",
       "  </thead>\n",
       "  <tbody>\n",
       "    <tr>\n",
       "      <th id=\"T_73112_level0_row0\" class=\"row_heading level0 row0\" >0</th>\n",
       "      <td id=\"T_73112_row0_col0\" class=\"data row0 col0\" >session_id</td>\n",
       "      <td id=\"T_73112_row0_col1\" class=\"data row0 col1\" >3080</td>\n",
       "    </tr>\n",
       "    <tr>\n",
       "      <th id=\"T_73112_level0_row1\" class=\"row_heading level0 row1\" >1</th>\n",
       "      <td id=\"T_73112_row1_col0\" class=\"data row1 col0\" >Target</td>\n",
       "      <td id=\"T_73112_row1_col1\" class=\"data row1 col1\" >turnover</td>\n",
       "    </tr>\n",
       "    <tr>\n",
       "      <th id=\"T_73112_level0_row2\" class=\"row_heading level0 row2\" >2</th>\n",
       "      <td id=\"T_73112_row2_col0\" class=\"data row2 col0\" >Target Type</td>\n",
       "      <td id=\"T_73112_row2_col1\" class=\"data row2 col1\" >Binary</td>\n",
       "    </tr>\n",
       "    <tr>\n",
       "      <th id=\"T_73112_level0_row3\" class=\"row_heading level0 row3\" >3</th>\n",
       "      <td id=\"T_73112_row3_col0\" class=\"data row3 col0\" >Label Encoded</td>\n",
       "      <td id=\"T_73112_row3_col1\" class=\"data row3 col1\" >0: 0, 1: 1</td>\n",
       "    </tr>\n",
       "    <tr>\n",
       "      <th id=\"T_73112_level0_row4\" class=\"row_heading level0 row4\" >4</th>\n",
       "      <td id=\"T_73112_row4_col0\" class=\"data row4 col0\" >Original Data</td>\n",
       "      <td id=\"T_73112_row4_col1\" class=\"data row4 col1\" >(14998, 5)</td>\n",
       "    </tr>\n",
       "    <tr>\n",
       "      <th id=\"T_73112_level0_row5\" class=\"row_heading level0 row5\" >5</th>\n",
       "      <td id=\"T_73112_row5_col0\" class=\"data row5 col0\" >Missing Values</td>\n",
       "      <td id=\"T_73112_row5_col1\" class=\"data row5 col1\" >False</td>\n",
       "    </tr>\n",
       "    <tr>\n",
       "      <th id=\"T_73112_level0_row6\" class=\"row_heading level0 row6\" >6</th>\n",
       "      <td id=\"T_73112_row6_col0\" class=\"data row6 col0\" >Numeric Features</td>\n",
       "      <td id=\"T_73112_row6_col1\" class=\"data row6 col1\" >4</td>\n",
       "    </tr>\n",
       "    <tr>\n",
       "      <th id=\"T_73112_level0_row7\" class=\"row_heading level0 row7\" >7</th>\n",
       "      <td id=\"T_73112_row7_col0\" class=\"data row7 col0\" >Categorical Features</td>\n",
       "      <td id=\"T_73112_row7_col1\" class=\"data row7 col1\" >0</td>\n",
       "    </tr>\n",
       "    <tr>\n",
       "      <th id=\"T_73112_level0_row8\" class=\"row_heading level0 row8\" >8</th>\n",
       "      <td id=\"T_73112_row8_col0\" class=\"data row8 col0\" >Ordinal Features</td>\n",
       "      <td id=\"T_73112_row8_col1\" class=\"data row8 col1\" >False</td>\n",
       "    </tr>\n",
       "    <tr>\n",
       "      <th id=\"T_73112_level0_row9\" class=\"row_heading level0 row9\" >9</th>\n",
       "      <td id=\"T_73112_row9_col0\" class=\"data row9 col0\" >High Cardinality Features</td>\n",
       "      <td id=\"T_73112_row9_col1\" class=\"data row9 col1\" >False</td>\n",
       "    </tr>\n",
       "    <tr>\n",
       "      <th id=\"T_73112_level0_row10\" class=\"row_heading level0 row10\" >10</th>\n",
       "      <td id=\"T_73112_row10_col0\" class=\"data row10 col0\" >High Cardinality Method</td>\n",
       "      <td id=\"T_73112_row10_col1\" class=\"data row10 col1\" >None</td>\n",
       "    </tr>\n",
       "    <tr>\n",
       "      <th id=\"T_73112_level0_row11\" class=\"row_heading level0 row11\" >11</th>\n",
       "      <td id=\"T_73112_row11_col0\" class=\"data row11 col0\" >Transformed Train Set</td>\n",
       "      <td id=\"T_73112_row11_col1\" class=\"data row11 col1\" >(10498, 4)</td>\n",
       "    </tr>\n",
       "    <tr>\n",
       "      <th id=\"T_73112_level0_row12\" class=\"row_heading level0 row12\" >12</th>\n",
       "      <td id=\"T_73112_row12_col0\" class=\"data row12 col0\" >Transformed Test Set</td>\n",
       "      <td id=\"T_73112_row12_col1\" class=\"data row12 col1\" >(4500, 4)</td>\n",
       "    </tr>\n",
       "    <tr>\n",
       "      <th id=\"T_73112_level0_row13\" class=\"row_heading level0 row13\" >13</th>\n",
       "      <td id=\"T_73112_row13_col0\" class=\"data row13 col0\" >Shuffle Train-Test</td>\n",
       "      <td id=\"T_73112_row13_col1\" class=\"data row13 col1\" >True</td>\n",
       "    </tr>\n",
       "    <tr>\n",
       "      <th id=\"T_73112_level0_row14\" class=\"row_heading level0 row14\" >14</th>\n",
       "      <td id=\"T_73112_row14_col0\" class=\"data row14 col0\" >Stratify Train-Test</td>\n",
       "      <td id=\"T_73112_row14_col1\" class=\"data row14 col1\" >True</td>\n",
       "    </tr>\n",
       "    <tr>\n",
       "      <th id=\"T_73112_level0_row15\" class=\"row_heading level0 row15\" >15</th>\n",
       "      <td id=\"T_73112_row15_col0\" class=\"data row15 col0\" >Fold Generator</td>\n",
       "      <td id=\"T_73112_row15_col1\" class=\"data row15 col1\" >StratifiedKFold</td>\n",
       "    </tr>\n",
       "    <tr>\n",
       "      <th id=\"T_73112_level0_row16\" class=\"row_heading level0 row16\" >16</th>\n",
       "      <td id=\"T_73112_row16_col0\" class=\"data row16 col0\" >Fold Number</td>\n",
       "      <td id=\"T_73112_row16_col1\" class=\"data row16 col1\" >10</td>\n",
       "    </tr>\n",
       "    <tr>\n",
       "      <th id=\"T_73112_level0_row17\" class=\"row_heading level0 row17\" >17</th>\n",
       "      <td id=\"T_73112_row17_col0\" class=\"data row17 col0\" >CPU Jobs</td>\n",
       "      <td id=\"T_73112_row17_col1\" class=\"data row17 col1\" >-1</td>\n",
       "    </tr>\n",
       "    <tr>\n",
       "      <th id=\"T_73112_level0_row18\" class=\"row_heading level0 row18\" >18</th>\n",
       "      <td id=\"T_73112_row18_col0\" class=\"data row18 col0\" >Use GPU</td>\n",
       "      <td id=\"T_73112_row18_col1\" class=\"data row18 col1\" >False</td>\n",
       "    </tr>\n",
       "    <tr>\n",
       "      <th id=\"T_73112_level0_row19\" class=\"row_heading level0 row19\" >19</th>\n",
       "      <td id=\"T_73112_row19_col0\" class=\"data row19 col0\" >Log Experiment</td>\n",
       "      <td id=\"T_73112_row19_col1\" class=\"data row19 col1\" >False</td>\n",
       "    </tr>\n",
       "    <tr>\n",
       "      <th id=\"T_73112_level0_row20\" class=\"row_heading level0 row20\" >20</th>\n",
       "      <td id=\"T_73112_row20_col0\" class=\"data row20 col0\" >Experiment Name</td>\n",
       "      <td id=\"T_73112_row20_col1\" class=\"data row20 col1\" >clf-default-name</td>\n",
       "    </tr>\n",
       "    <tr>\n",
       "      <th id=\"T_73112_level0_row21\" class=\"row_heading level0 row21\" >21</th>\n",
       "      <td id=\"T_73112_row21_col0\" class=\"data row21 col0\" >USI</td>\n",
       "      <td id=\"T_73112_row21_col1\" class=\"data row21 col1\" >b9bb</td>\n",
       "    </tr>\n",
       "    <tr>\n",
       "      <th id=\"T_73112_level0_row22\" class=\"row_heading level0 row22\" >22</th>\n",
       "      <td id=\"T_73112_row22_col0\" class=\"data row22 col0\" >Imputation Type</td>\n",
       "      <td id=\"T_73112_row22_col1\" class=\"data row22 col1\" >simple</td>\n",
       "    </tr>\n",
       "    <tr>\n",
       "      <th id=\"T_73112_level0_row23\" class=\"row_heading level0 row23\" >23</th>\n",
       "      <td id=\"T_73112_row23_col0\" class=\"data row23 col0\" >Iterative Imputation Iteration</td>\n",
       "      <td id=\"T_73112_row23_col1\" class=\"data row23 col1\" >None</td>\n",
       "    </tr>\n",
       "    <tr>\n",
       "      <th id=\"T_73112_level0_row24\" class=\"row_heading level0 row24\" >24</th>\n",
       "      <td id=\"T_73112_row24_col0\" class=\"data row24 col0\" >Numeric Imputer</td>\n",
       "      <td id=\"T_73112_row24_col1\" class=\"data row24 col1\" >mean</td>\n",
       "    </tr>\n",
       "    <tr>\n",
       "      <th id=\"T_73112_level0_row25\" class=\"row_heading level0 row25\" >25</th>\n",
       "      <td id=\"T_73112_row25_col0\" class=\"data row25 col0\" >Iterative Imputation Numeric Model</td>\n",
       "      <td id=\"T_73112_row25_col1\" class=\"data row25 col1\" >None</td>\n",
       "    </tr>\n",
       "    <tr>\n",
       "      <th id=\"T_73112_level0_row26\" class=\"row_heading level0 row26\" >26</th>\n",
       "      <td id=\"T_73112_row26_col0\" class=\"data row26 col0\" >Categorical Imputer</td>\n",
       "      <td id=\"T_73112_row26_col1\" class=\"data row26 col1\" >constant</td>\n",
       "    </tr>\n",
       "    <tr>\n",
       "      <th id=\"T_73112_level0_row27\" class=\"row_heading level0 row27\" >27</th>\n",
       "      <td id=\"T_73112_row27_col0\" class=\"data row27 col0\" >Iterative Imputation Categorical Model</td>\n",
       "      <td id=\"T_73112_row27_col1\" class=\"data row27 col1\" >None</td>\n",
       "    </tr>\n",
       "    <tr>\n",
       "      <th id=\"T_73112_level0_row28\" class=\"row_heading level0 row28\" >28</th>\n",
       "      <td id=\"T_73112_row28_col0\" class=\"data row28 col0\" >Unknown Categoricals Handling</td>\n",
       "      <td id=\"T_73112_row28_col1\" class=\"data row28 col1\" >least_frequent</td>\n",
       "    </tr>\n",
       "    <tr>\n",
       "      <th id=\"T_73112_level0_row29\" class=\"row_heading level0 row29\" >29</th>\n",
       "      <td id=\"T_73112_row29_col0\" class=\"data row29 col0\" >Normalize</td>\n",
       "      <td id=\"T_73112_row29_col1\" class=\"data row29 col1\" >True</td>\n",
       "    </tr>\n",
       "    <tr>\n",
       "      <th id=\"T_73112_level0_row30\" class=\"row_heading level0 row30\" >30</th>\n",
       "      <td id=\"T_73112_row30_col0\" class=\"data row30 col0\" >Normalize Method</td>\n",
       "      <td id=\"T_73112_row30_col1\" class=\"data row30 col1\" >minmax</td>\n",
       "    </tr>\n",
       "    <tr>\n",
       "      <th id=\"T_73112_level0_row31\" class=\"row_heading level0 row31\" >31</th>\n",
       "      <td id=\"T_73112_row31_col0\" class=\"data row31 col0\" >Transformation</td>\n",
       "      <td id=\"T_73112_row31_col1\" class=\"data row31 col1\" >False</td>\n",
       "    </tr>\n",
       "    <tr>\n",
       "      <th id=\"T_73112_level0_row32\" class=\"row_heading level0 row32\" >32</th>\n",
       "      <td id=\"T_73112_row32_col0\" class=\"data row32 col0\" >Transformation Method</td>\n",
       "      <td id=\"T_73112_row32_col1\" class=\"data row32 col1\" >None</td>\n",
       "    </tr>\n",
       "    <tr>\n",
       "      <th id=\"T_73112_level0_row33\" class=\"row_heading level0 row33\" >33</th>\n",
       "      <td id=\"T_73112_row33_col0\" class=\"data row33 col0\" >PCA</td>\n",
       "      <td id=\"T_73112_row33_col1\" class=\"data row33 col1\" >False</td>\n",
       "    </tr>\n",
       "    <tr>\n",
       "      <th id=\"T_73112_level0_row34\" class=\"row_heading level0 row34\" >34</th>\n",
       "      <td id=\"T_73112_row34_col0\" class=\"data row34 col0\" >PCA Method</td>\n",
       "      <td id=\"T_73112_row34_col1\" class=\"data row34 col1\" >None</td>\n",
       "    </tr>\n",
       "    <tr>\n",
       "      <th id=\"T_73112_level0_row35\" class=\"row_heading level0 row35\" >35</th>\n",
       "      <td id=\"T_73112_row35_col0\" class=\"data row35 col0\" >PCA Components</td>\n",
       "      <td id=\"T_73112_row35_col1\" class=\"data row35 col1\" >None</td>\n",
       "    </tr>\n",
       "    <tr>\n",
       "      <th id=\"T_73112_level0_row36\" class=\"row_heading level0 row36\" >36</th>\n",
       "      <td id=\"T_73112_row36_col0\" class=\"data row36 col0\" >Ignore Low Variance</td>\n",
       "      <td id=\"T_73112_row36_col1\" class=\"data row36 col1\" >False</td>\n",
       "    </tr>\n",
       "    <tr>\n",
       "      <th id=\"T_73112_level0_row37\" class=\"row_heading level0 row37\" >37</th>\n",
       "      <td id=\"T_73112_row37_col0\" class=\"data row37 col0\" >Combine Rare Levels</td>\n",
       "      <td id=\"T_73112_row37_col1\" class=\"data row37 col1\" >False</td>\n",
       "    </tr>\n",
       "    <tr>\n",
       "      <th id=\"T_73112_level0_row38\" class=\"row_heading level0 row38\" >38</th>\n",
       "      <td id=\"T_73112_row38_col0\" class=\"data row38 col0\" >Rare Level Threshold</td>\n",
       "      <td id=\"T_73112_row38_col1\" class=\"data row38 col1\" >None</td>\n",
       "    </tr>\n",
       "    <tr>\n",
       "      <th id=\"T_73112_level0_row39\" class=\"row_heading level0 row39\" >39</th>\n",
       "      <td id=\"T_73112_row39_col0\" class=\"data row39 col0\" >Numeric Binning</td>\n",
       "      <td id=\"T_73112_row39_col1\" class=\"data row39 col1\" >False</td>\n",
       "    </tr>\n",
       "    <tr>\n",
       "      <th id=\"T_73112_level0_row40\" class=\"row_heading level0 row40\" >40</th>\n",
       "      <td id=\"T_73112_row40_col0\" class=\"data row40 col0\" >Remove Outliers</td>\n",
       "      <td id=\"T_73112_row40_col1\" class=\"data row40 col1\" >False</td>\n",
       "    </tr>\n",
       "    <tr>\n",
       "      <th id=\"T_73112_level0_row41\" class=\"row_heading level0 row41\" >41</th>\n",
       "      <td id=\"T_73112_row41_col0\" class=\"data row41 col0\" >Outliers Threshold</td>\n",
       "      <td id=\"T_73112_row41_col1\" class=\"data row41 col1\" >None</td>\n",
       "    </tr>\n",
       "    <tr>\n",
       "      <th id=\"T_73112_level0_row42\" class=\"row_heading level0 row42\" >42</th>\n",
       "      <td id=\"T_73112_row42_col0\" class=\"data row42 col0\" >Remove Multicollinearity</td>\n",
       "      <td id=\"T_73112_row42_col1\" class=\"data row42 col1\" >False</td>\n",
       "    </tr>\n",
       "    <tr>\n",
       "      <th id=\"T_73112_level0_row43\" class=\"row_heading level0 row43\" >43</th>\n",
       "      <td id=\"T_73112_row43_col0\" class=\"data row43 col0\" >Multicollinearity Threshold</td>\n",
       "      <td id=\"T_73112_row43_col1\" class=\"data row43 col1\" >None</td>\n",
       "    </tr>\n",
       "    <tr>\n",
       "      <th id=\"T_73112_level0_row44\" class=\"row_heading level0 row44\" >44</th>\n",
       "      <td id=\"T_73112_row44_col0\" class=\"data row44 col0\" >Remove Perfect Collinearity</td>\n",
       "      <td id=\"T_73112_row44_col1\" class=\"data row44 col1\" >True</td>\n",
       "    </tr>\n",
       "    <tr>\n",
       "      <th id=\"T_73112_level0_row45\" class=\"row_heading level0 row45\" >45</th>\n",
       "      <td id=\"T_73112_row45_col0\" class=\"data row45 col0\" >Clustering</td>\n",
       "      <td id=\"T_73112_row45_col1\" class=\"data row45 col1\" >False</td>\n",
       "    </tr>\n",
       "    <tr>\n",
       "      <th id=\"T_73112_level0_row46\" class=\"row_heading level0 row46\" >46</th>\n",
       "      <td id=\"T_73112_row46_col0\" class=\"data row46 col0\" >Clustering Iteration</td>\n",
       "      <td id=\"T_73112_row46_col1\" class=\"data row46 col1\" >None</td>\n",
       "    </tr>\n",
       "    <tr>\n",
       "      <th id=\"T_73112_level0_row47\" class=\"row_heading level0 row47\" >47</th>\n",
       "      <td id=\"T_73112_row47_col0\" class=\"data row47 col0\" >Polynomial Features</td>\n",
       "      <td id=\"T_73112_row47_col1\" class=\"data row47 col1\" >False</td>\n",
       "    </tr>\n",
       "    <tr>\n",
       "      <th id=\"T_73112_level0_row48\" class=\"row_heading level0 row48\" >48</th>\n",
       "      <td id=\"T_73112_row48_col0\" class=\"data row48 col0\" >Polynomial Degree</td>\n",
       "      <td id=\"T_73112_row48_col1\" class=\"data row48 col1\" >None</td>\n",
       "    </tr>\n",
       "    <tr>\n",
       "      <th id=\"T_73112_level0_row49\" class=\"row_heading level0 row49\" >49</th>\n",
       "      <td id=\"T_73112_row49_col0\" class=\"data row49 col0\" >Trignometry Features</td>\n",
       "      <td id=\"T_73112_row49_col1\" class=\"data row49 col1\" >False</td>\n",
       "    </tr>\n",
       "    <tr>\n",
       "      <th id=\"T_73112_level0_row50\" class=\"row_heading level0 row50\" >50</th>\n",
       "      <td id=\"T_73112_row50_col0\" class=\"data row50 col0\" >Polynomial Threshold</td>\n",
       "      <td id=\"T_73112_row50_col1\" class=\"data row50 col1\" >None</td>\n",
       "    </tr>\n",
       "    <tr>\n",
       "      <th id=\"T_73112_level0_row51\" class=\"row_heading level0 row51\" >51</th>\n",
       "      <td id=\"T_73112_row51_col0\" class=\"data row51 col0\" >Group Features</td>\n",
       "      <td id=\"T_73112_row51_col1\" class=\"data row51 col1\" >False</td>\n",
       "    </tr>\n",
       "    <tr>\n",
       "      <th id=\"T_73112_level0_row52\" class=\"row_heading level0 row52\" >52</th>\n",
       "      <td id=\"T_73112_row52_col0\" class=\"data row52 col0\" >Feature Selection</td>\n",
       "      <td id=\"T_73112_row52_col1\" class=\"data row52 col1\" >False</td>\n",
       "    </tr>\n",
       "    <tr>\n",
       "      <th id=\"T_73112_level0_row53\" class=\"row_heading level0 row53\" >53</th>\n",
       "      <td id=\"T_73112_row53_col0\" class=\"data row53 col0\" >Feature Selection Method</td>\n",
       "      <td id=\"T_73112_row53_col1\" class=\"data row53 col1\" >classic</td>\n",
       "    </tr>\n",
       "    <tr>\n",
       "      <th id=\"T_73112_level0_row54\" class=\"row_heading level0 row54\" >54</th>\n",
       "      <td id=\"T_73112_row54_col0\" class=\"data row54 col0\" >Features Selection Threshold</td>\n",
       "      <td id=\"T_73112_row54_col1\" class=\"data row54 col1\" >None</td>\n",
       "    </tr>\n",
       "    <tr>\n",
       "      <th id=\"T_73112_level0_row55\" class=\"row_heading level0 row55\" >55</th>\n",
       "      <td id=\"T_73112_row55_col0\" class=\"data row55 col0\" >Feature Interaction</td>\n",
       "      <td id=\"T_73112_row55_col1\" class=\"data row55 col1\" >False</td>\n",
       "    </tr>\n",
       "    <tr>\n",
       "      <th id=\"T_73112_level0_row56\" class=\"row_heading level0 row56\" >56</th>\n",
       "      <td id=\"T_73112_row56_col0\" class=\"data row56 col0\" >Feature Ratio</td>\n",
       "      <td id=\"T_73112_row56_col1\" class=\"data row56 col1\" >False</td>\n",
       "    </tr>\n",
       "    <tr>\n",
       "      <th id=\"T_73112_level0_row57\" class=\"row_heading level0 row57\" >57</th>\n",
       "      <td id=\"T_73112_row57_col0\" class=\"data row57 col0\" >Interaction Threshold</td>\n",
       "      <td id=\"T_73112_row57_col1\" class=\"data row57 col1\" >None</td>\n",
       "    </tr>\n",
       "    <tr>\n",
       "      <th id=\"T_73112_level0_row58\" class=\"row_heading level0 row58\" >58</th>\n",
       "      <td id=\"T_73112_row58_col0\" class=\"data row58 col0\" >Fix Imbalance</td>\n",
       "      <td id=\"T_73112_row58_col1\" class=\"data row58 col1\" >True</td>\n",
       "    </tr>\n",
       "    <tr>\n",
       "      <th id=\"T_73112_level0_row59\" class=\"row_heading level0 row59\" >59</th>\n",
       "      <td id=\"T_73112_row59_col0\" class=\"data row59 col0\" >Fix Imbalance Method</td>\n",
       "      <td id=\"T_73112_row59_col1\" class=\"data row59 col1\" >SMOTE</td>\n",
       "    </tr>\n",
       "  </tbody>\n",
       "</table>\n"
      ],
      "text/plain": [
       "<pandas.io.formats.style.Styler at 0x7fcede635df0>"
      ]
     },
     "metadata": {},
     "output_type": "display_data"
    }
   ],
   "source": [
    "s = setup( df[[\"satisfaction\",\"evaluation\",\"averageMonthlyHours\",\"yearsAtCompany\",\"turnover\"]]\n",
    "          ,target = \"turnover\"\n",
    "          ,numeric_features = [\"yearsAtCompany\"]\n",
    "          ,normalize = True\n",
    "          ,normalize_method = \"minmax\"\n",
    "          ,data_split_stratify = True\n",
    "          ,fix_imbalance = True,\n",
    "         )"
   ]
  },
  {
   "cell_type": "markdown",
   "id": "6612ce69",
   "metadata": {
    "tags": []
   },
   "source": [
    "#### Comparando diferentes modelos."
   ]
  },
  {
   "cell_type": "code",
   "execution_count": 62,
   "id": "02172f9a",
   "metadata": {},
   "outputs": [
    {
     "data": {
      "text/html": [
       "<style type=\"text/css\">\n",
       "#T_fdf13_ th {\n",
       "  text-align: left;\n",
       "}\n",
       "#T_fdf13_row0_col0, #T_fdf13_row0_col1, #T_fdf13_row0_col3, #T_fdf13_row0_col4, #T_fdf13_row0_col5, #T_fdf13_row0_col6, #T_fdf13_row0_col7, #T_fdf13_row1_col0, #T_fdf13_row1_col2, #T_fdf13_row1_col3, #T_fdf13_row2_col0, #T_fdf13_row2_col1, #T_fdf13_row2_col2, #T_fdf13_row2_col3, #T_fdf13_row2_col4, #T_fdf13_row2_col5, #T_fdf13_row2_col6, #T_fdf13_row2_col7, #T_fdf13_row3_col0, #T_fdf13_row3_col1, #T_fdf13_row3_col2, #T_fdf13_row3_col3, #T_fdf13_row3_col4, #T_fdf13_row3_col5, #T_fdf13_row3_col6, #T_fdf13_row3_col7, #T_fdf13_row4_col0, #T_fdf13_row4_col1, #T_fdf13_row4_col2, #T_fdf13_row4_col4, #T_fdf13_row4_col5, #T_fdf13_row4_col6, #T_fdf13_row4_col7, #T_fdf13_row5_col0, #T_fdf13_row5_col1, #T_fdf13_row5_col2, #T_fdf13_row5_col3, #T_fdf13_row5_col4, #T_fdf13_row5_col5, #T_fdf13_row5_col6, #T_fdf13_row5_col7, #T_fdf13_row6_col0, #T_fdf13_row6_col1, #T_fdf13_row6_col2, #T_fdf13_row6_col3, #T_fdf13_row6_col4, #T_fdf13_row6_col5, #T_fdf13_row6_col6, #T_fdf13_row6_col7, #T_fdf13_row7_col0, #T_fdf13_row7_col1, #T_fdf13_row7_col2, #T_fdf13_row7_col3, #T_fdf13_row7_col4, #T_fdf13_row7_col5, #T_fdf13_row7_col6, #T_fdf13_row7_col7, #T_fdf13_row8_col0, #T_fdf13_row8_col1, #T_fdf13_row8_col2, #T_fdf13_row8_col3, #T_fdf13_row8_col4, #T_fdf13_row8_col5, #T_fdf13_row8_col6, #T_fdf13_row8_col7, #T_fdf13_row9_col0, #T_fdf13_row9_col1, #T_fdf13_row9_col2, #T_fdf13_row9_col3, #T_fdf13_row9_col4, #T_fdf13_row9_col5, #T_fdf13_row9_col6, #T_fdf13_row9_col7, #T_fdf13_row10_col0, #T_fdf13_row10_col1, #T_fdf13_row10_col2, #T_fdf13_row10_col3, #T_fdf13_row10_col4, #T_fdf13_row10_col5, #T_fdf13_row10_col6, #T_fdf13_row10_col7, #T_fdf13_row11_col0, #T_fdf13_row11_col1, #T_fdf13_row11_col2, #T_fdf13_row11_col3, #T_fdf13_row11_col4, #T_fdf13_row11_col5, #T_fdf13_row11_col6, #T_fdf13_row11_col7, #T_fdf13_row12_col0, #T_fdf13_row12_col1, #T_fdf13_row12_col2, #T_fdf13_row12_col3, #T_fdf13_row12_col4, #T_fdf13_row12_col5, #T_fdf13_row12_col6, #T_fdf13_row12_col7 {\n",
       "  text-align: left;\n",
       "}\n",
       "#T_fdf13_row0_col2, #T_fdf13_row1_col1, #T_fdf13_row1_col4, #T_fdf13_row1_col5, #T_fdf13_row1_col6, #T_fdf13_row1_col7, #T_fdf13_row4_col3 {\n",
       "  text-align: left;\n",
       "  background-color: yellow;\n",
       "}\n",
       "#T_fdf13_row0_col8, #T_fdf13_row1_col8, #T_fdf13_row2_col8, #T_fdf13_row3_col8, #T_fdf13_row4_col8, #T_fdf13_row5_col8, #T_fdf13_row6_col8, #T_fdf13_row7_col8, #T_fdf13_row8_col8, #T_fdf13_row9_col8, #T_fdf13_row10_col8, #T_fdf13_row11_col8 {\n",
       "  text-align: left;\n",
       "  background-color: lightgrey;\n",
       "}\n",
       "#T_fdf13_row12_col8 {\n",
       "  text-align: left;\n",
       "  background-color: yellow;\n",
       "  background-color: lightgrey;\n",
       "}\n",
       "</style>\n",
       "<table id=\"T_fdf13_\">\n",
       "  <thead>\n",
       "    <tr>\n",
       "      <th class=\"blank level0\" >&nbsp;</th>\n",
       "      <th class=\"col_heading level0 col0\" >Model</th>\n",
       "      <th class=\"col_heading level0 col1\" >Accuracy</th>\n",
       "      <th class=\"col_heading level0 col2\" >AUC</th>\n",
       "      <th class=\"col_heading level0 col3\" >Recall</th>\n",
       "      <th class=\"col_heading level0 col4\" >Prec.</th>\n",
       "      <th class=\"col_heading level0 col5\" >F1</th>\n",
       "      <th class=\"col_heading level0 col6\" >Kappa</th>\n",
       "      <th class=\"col_heading level0 col7\" >MCC</th>\n",
       "      <th class=\"col_heading level0 col8\" >TT (Sec)</th>\n",
       "    </tr>\n",
       "  </thead>\n",
       "  <tbody>\n",
       "    <tr>\n",
       "      <th id=\"T_fdf13_level0_row0\" class=\"row_heading level0 row0\" >gbc</th>\n",
       "      <td id=\"T_fdf13_row0_col0\" class=\"data row0 col0\" >Gradient Boosting Classifier</td>\n",
       "      <td id=\"T_fdf13_row0_col1\" class=\"data row0 col1\" >0.8253</td>\n",
       "      <td id=\"T_fdf13_row0_col2\" class=\"data row0 col2\" >0.8069</td>\n",
       "      <td id=\"T_fdf13_row0_col3\" class=\"data row0 col3\" >0.7007</td>\n",
       "      <td id=\"T_fdf13_row0_col4\" class=\"data row0 col4\" >0.6176</td>\n",
       "      <td id=\"T_fdf13_row0_col5\" class=\"data row0 col5\" >0.6564</td>\n",
       "      <td id=\"T_fdf13_row0_col6\" class=\"data row0 col6\" >0.5399</td>\n",
       "      <td id=\"T_fdf13_row0_col7\" class=\"data row0 col7\" >0.5420</td>\n",
       "      <td id=\"T_fdf13_row0_col8\" class=\"data row0 col8\" >0.1780</td>\n",
       "    </tr>\n",
       "    <tr>\n",
       "      <th id=\"T_fdf13_level0_row1\" class=\"row_heading level0 row1\" >lightgbm</th>\n",
       "      <td id=\"T_fdf13_row1_col0\" class=\"data row1 col0\" >Light Gradient Boosting Machine</td>\n",
       "      <td id=\"T_fdf13_row1_col1\" class=\"data row1 col1\" >0.8409</td>\n",
       "      <td id=\"T_fdf13_row1_col2\" class=\"data row1 col2\" >0.8019</td>\n",
       "      <td id=\"T_fdf13_row1_col3\" class=\"data row1 col3\" >0.6551</td>\n",
       "      <td id=\"T_fdf13_row1_col4\" class=\"data row1 col4\" >0.6704</td>\n",
       "      <td id=\"T_fdf13_row1_col5\" class=\"data row1 col5\" >0.6624</td>\n",
       "      <td id=\"T_fdf13_row1_col6\" class=\"data row1 col6\" >0.5584</td>\n",
       "      <td id=\"T_fdf13_row1_col7\" class=\"data row1 col7\" >0.5586</td>\n",
       "      <td id=\"T_fdf13_row1_col8\" class=\"data row1 col8\" >0.0480</td>\n",
       "    </tr>\n",
       "    <tr>\n",
       "      <th id=\"T_fdf13_level0_row2\" class=\"row_heading level0 row2\" >ada</th>\n",
       "      <td id=\"T_fdf13_row2_col0\" class=\"data row2 col0\" >Ada Boost Classifier</td>\n",
       "      <td id=\"T_fdf13_row2_col1\" class=\"data row2 col1\" >0.8018</td>\n",
       "      <td id=\"T_fdf13_row2_col2\" class=\"data row2 col2\" >0.7992</td>\n",
       "      <td id=\"T_fdf13_row2_col3\" class=\"data row2 col3\" >0.6983</td>\n",
       "      <td id=\"T_fdf13_row2_col4\" class=\"data row2 col4\" >0.5681</td>\n",
       "      <td id=\"T_fdf13_row2_col5\" class=\"data row2 col5\" >0.6265</td>\n",
       "      <td id=\"T_fdf13_row2_col6\" class=\"data row2 col6\" >0.4935</td>\n",
       "      <td id=\"T_fdf13_row2_col7\" class=\"data row2 col7\" >0.4984</td>\n",
       "      <td id=\"T_fdf13_row2_col8\" class=\"data row2 col8\" >0.0720</td>\n",
       "    </tr>\n",
       "    <tr>\n",
       "      <th id=\"T_fdf13_level0_row3\" class=\"row_heading level0 row3\" >rf</th>\n",
       "      <td id=\"T_fdf13_row3_col0\" class=\"data row3 col0\" >Random Forest Classifier</td>\n",
       "      <td id=\"T_fdf13_row3_col1\" class=\"data row3 col1\" >0.8083</td>\n",
       "      <td id=\"T_fdf13_row3_col2\" class=\"data row3 col2\" >0.7761</td>\n",
       "      <td id=\"T_fdf13_row3_col3\" class=\"data row3 col3\" >0.5642</td>\n",
       "      <td id=\"T_fdf13_row3_col4\" class=\"data row3 col4\" >0.6047</td>\n",
       "      <td id=\"T_fdf13_row3_col5\" class=\"data row3 col5\" >0.5836</td>\n",
       "      <td id=\"T_fdf13_row3_col6\" class=\"data row3 col6\" >0.4592</td>\n",
       "      <td id=\"T_fdf13_row3_col7\" class=\"data row3 col7\" >0.4598</td>\n",
       "      <td id=\"T_fdf13_row3_col8\" class=\"data row3 col8\" >0.2740</td>\n",
       "    </tr>\n",
       "    <tr>\n",
       "      <th id=\"T_fdf13_level0_row4\" class=\"row_heading level0 row4\" >qda</th>\n",
       "      <td id=\"T_fdf13_row4_col0\" class=\"data row4 col0\" >Quadratic Discriminant Analysis</td>\n",
       "      <td id=\"T_fdf13_row4_col1\" class=\"data row4 col1\" >0.7245</td>\n",
       "      <td id=\"T_fdf13_row4_col2\" class=\"data row4 col2\" >0.7551</td>\n",
       "      <td id=\"T_fdf13_row4_col3\" class=\"data row4 col3\" >0.7547</td>\n",
       "      <td id=\"T_fdf13_row4_col4\" class=\"data row4 col4\" >0.4531</td>\n",
       "      <td id=\"T_fdf13_row4_col5\" class=\"data row4 col5\" >0.5661</td>\n",
       "      <td id=\"T_fdf13_row4_col6\" class=\"data row4 col6\" >0.3823</td>\n",
       "      <td id=\"T_fdf13_row4_col7\" class=\"data row4 col7\" >0.4091</td>\n",
       "      <td id=\"T_fdf13_row4_col8\" class=\"data row4 col8\" >0.0120</td>\n",
       "    </tr>\n",
       "    <tr>\n",
       "      <th id=\"T_fdf13_level0_row5\" class=\"row_heading level0 row5\" >knn</th>\n",
       "      <td id=\"T_fdf13_row5_col0\" class=\"data row5 col0\" >K Neighbors Classifier</td>\n",
       "      <td id=\"T_fdf13_row5_col1\" class=\"data row5 col1\" >0.7330</td>\n",
       "      <td id=\"T_fdf13_row5_col2\" class=\"data row5 col2\" >0.7507</td>\n",
       "      <td id=\"T_fdf13_row5_col3\" class=\"data row5 col3\" >0.6855</td>\n",
       "      <td id=\"T_fdf13_row5_col4\" class=\"data row5 col4\" >0.4593</td>\n",
       "      <td id=\"T_fdf13_row5_col5\" class=\"data row5 col5\" >0.5500</td>\n",
       "      <td id=\"T_fdf13_row5_col6\" class=\"data row5 col6\" >0.3706</td>\n",
       "      <td id=\"T_fdf13_row5_col7\" class=\"data row5 col7\" >0.3856</td>\n",
       "      <td id=\"T_fdf13_row5_col8\" class=\"data row5 col8\" >0.2640</td>\n",
       "    </tr>\n",
       "    <tr>\n",
       "      <th id=\"T_fdf13_level0_row6\" class=\"row_heading level0 row6\" >et</th>\n",
       "      <td id=\"T_fdf13_row6_col0\" class=\"data row6 col0\" >Extra Trees Classifier</td>\n",
       "      <td id=\"T_fdf13_row6_col1\" class=\"data row6 col1\" >0.8014</td>\n",
       "      <td id=\"T_fdf13_row6_col2\" class=\"data row6 col2\" >0.7505</td>\n",
       "      <td id=\"T_fdf13_row6_col3\" class=\"data row6 col3\" >0.5306</td>\n",
       "      <td id=\"T_fdf13_row6_col4\" class=\"data row6 col4\" >0.5931</td>\n",
       "      <td id=\"T_fdf13_row6_col5\" class=\"data row6 col5\" >0.5599</td>\n",
       "      <td id=\"T_fdf13_row6_col6\" class=\"data row6 col6\" >0.4322</td>\n",
       "      <td id=\"T_fdf13_row6_col7\" class=\"data row6 col7\" >0.4334</td>\n",
       "      <td id=\"T_fdf13_row6_col8\" class=\"data row6 col8\" >0.1740</td>\n",
       "    </tr>\n",
       "    <tr>\n",
       "      <th id=\"T_fdf13_level0_row7\" class=\"row_heading level0 row7\" >nb</th>\n",
       "      <td id=\"T_fdf13_row7_col0\" class=\"data row7 col0\" >Naive Bayes</td>\n",
       "      <td id=\"T_fdf13_row7_col1\" class=\"data row7 col1\" >0.7137</td>\n",
       "      <td id=\"T_fdf13_row7_col2\" class=\"data row7 col2\" >0.7213</td>\n",
       "      <td id=\"T_fdf13_row7_col3\" class=\"data row7 col3\" >0.5982</td>\n",
       "      <td id=\"T_fdf13_row7_col4\" class=\"data row7 col4\" >0.4277</td>\n",
       "      <td id=\"T_fdf13_row7_col5\" class=\"data row7 col5\" >0.4987</td>\n",
       "      <td id=\"T_fdf13_row7_col6\" class=\"data row7 col6\" >0.3060</td>\n",
       "      <td id=\"T_fdf13_row7_col7\" class=\"data row7 col7\" >0.3145</td>\n",
       "      <td id=\"T_fdf13_row7_col8\" class=\"data row7 col8\" >0.2160</td>\n",
       "    </tr>\n",
       "    <tr>\n",
       "      <th id=\"T_fdf13_level0_row8\" class=\"row_heading level0 row8\" >lr</th>\n",
       "      <td id=\"T_fdf13_row8_col0\" class=\"data row8 col0\" >Logistic Regression</td>\n",
       "      <td id=\"T_fdf13_row8_col1\" class=\"data row8 col1\" >0.6795</td>\n",
       "      <td id=\"T_fdf13_row8_col2\" class=\"data row8 col2\" >0.7020</td>\n",
       "      <td id=\"T_fdf13_row8_col3\" class=\"data row8 col3\" >0.6447</td>\n",
       "      <td id=\"T_fdf13_row8_col4\" class=\"data row8 col4\" >0.3941</td>\n",
       "      <td id=\"T_fdf13_row8_col5\" class=\"data row8 col5\" >0.4892</td>\n",
       "      <td id=\"T_fdf13_row8_col6\" class=\"data row8 col6\" >0.2749</td>\n",
       "      <td id=\"T_fdf13_row8_col7\" class=\"data row8 col7\" >0.2926</td>\n",
       "      <td id=\"T_fdf13_row8_col8\" class=\"data row8 col8\" >0.3960</td>\n",
       "    </tr>\n",
       "    <tr>\n",
       "      <th id=\"T_fdf13_level0_row9\" class=\"row_heading level0 row9\" >lda</th>\n",
       "      <td id=\"T_fdf13_row9_col0\" class=\"data row9 col0\" >Linear Discriminant Analysis</td>\n",
       "      <td id=\"T_fdf13_row9_col1\" class=\"data row9 col1\" >0.6815</td>\n",
       "      <td id=\"T_fdf13_row9_col2\" class=\"data row9 col2\" >0.7014</td>\n",
       "      <td id=\"T_fdf13_row9_col3\" class=\"data row9 col3\" >0.6371</td>\n",
       "      <td id=\"T_fdf13_row9_col4\" class=\"data row9 col4\" >0.3952</td>\n",
       "      <td id=\"T_fdf13_row9_col5\" class=\"data row9 col5\" >0.4878</td>\n",
       "      <td id=\"T_fdf13_row9_col6\" class=\"data row9 col6\" >0.2747</td>\n",
       "      <td id=\"T_fdf13_row9_col7\" class=\"data row9 col7\" >0.2911</td>\n",
       "      <td id=\"T_fdf13_row9_col8\" class=\"data row9 col8\" >0.0140</td>\n",
       "    </tr>\n",
       "    <tr>\n",
       "      <th id=\"T_fdf13_level0_row10\" class=\"row_heading level0 row10\" >dt</th>\n",
       "      <td id=\"T_fdf13_row10_col0\" class=\"data row10 col0\" >Decision Tree Classifier</td>\n",
       "      <td id=\"T_fdf13_row10_col1\" class=\"data row10 col1\" >0.7330</td>\n",
       "      <td id=\"T_fdf13_row10_col2\" class=\"data row10 col2\" >0.6561</td>\n",
       "      <td id=\"T_fdf13_row10_col3\" class=\"data row10 col3\" >0.4910</td>\n",
       "      <td id=\"T_fdf13_row10_col4\" class=\"data row10 col4\" >0.4453</td>\n",
       "      <td id=\"T_fdf13_row10_col5\" class=\"data row10 col5\" >0.4668</td>\n",
       "      <td id=\"T_fdf13_row10_col6\" class=\"data row10 col6\" >0.2894</td>\n",
       "      <td id=\"T_fdf13_row10_col7\" class=\"data row10 col7\" >0.2901</td>\n",
       "      <td id=\"T_fdf13_row10_col8\" class=\"data row10 col8\" >0.0200</td>\n",
       "    </tr>\n",
       "    <tr>\n",
       "      <th id=\"T_fdf13_level0_row11\" class=\"row_heading level0 row11\" >svm</th>\n",
       "      <td id=\"T_fdf13_row11_col0\" class=\"data row11 col0\" >SVM - Linear Kernel</td>\n",
       "      <td id=\"T_fdf13_row11_col1\" class=\"data row11 col1\" >0.6636</td>\n",
       "      <td id=\"T_fdf13_row11_col2\" class=\"data row11 col2\" >0.0000</td>\n",
       "      <td id=\"T_fdf13_row11_col3\" class=\"data row11 col3\" >0.6295</td>\n",
       "      <td id=\"T_fdf13_row11_col4\" class=\"data row11 col4\" >0.3805</td>\n",
       "      <td id=\"T_fdf13_row11_col5\" class=\"data row11 col5\" >0.4729</td>\n",
       "      <td id=\"T_fdf13_row11_col6\" class=\"data row11 col6\" >0.2493</td>\n",
       "      <td id=\"T_fdf13_row11_col7\" class=\"data row11 col7\" >0.2662</td>\n",
       "      <td id=\"T_fdf13_row11_col8\" class=\"data row11 col8\" >0.0140</td>\n",
       "    </tr>\n",
       "    <tr>\n",
       "      <th id=\"T_fdf13_level0_row12\" class=\"row_heading level0 row12\" >ridge</th>\n",
       "      <td id=\"T_fdf13_row12_col0\" class=\"data row12 col0\" >Ridge Classifier</td>\n",
       "      <td id=\"T_fdf13_row12_col1\" class=\"data row12 col1\" >0.6817</td>\n",
       "      <td id=\"T_fdf13_row12_col2\" class=\"data row12 col2\" >0.0000</td>\n",
       "      <td id=\"T_fdf13_row12_col3\" class=\"data row12 col3\" >0.6375</td>\n",
       "      <td id=\"T_fdf13_row12_col4\" class=\"data row12 col4\" >0.3955</td>\n",
       "      <td id=\"T_fdf13_row12_col5\" class=\"data row12 col5\" >0.4881</td>\n",
       "      <td id=\"T_fdf13_row12_col6\" class=\"data row12 col6\" >0.2751</td>\n",
       "      <td id=\"T_fdf13_row12_col7\" class=\"data row12 col7\" >0.2916</td>\n",
       "      <td id=\"T_fdf13_row12_col8\" class=\"data row12 col8\" >0.0080</td>\n",
       "    </tr>\n",
       "  </tbody>\n",
       "</table>\n"
      ],
      "text/plain": [
       "<pandas.io.formats.style.Styler at 0x7fce8810f700>"
      ]
     },
     "metadata": {},
     "output_type": "display_data"
    }
   ],
   "source": [
    "best = compare_models(fold = 5,sort = 'AUC')"
   ]
  },
  {
   "cell_type": "markdown",
   "id": "d6af08bc",
   "metadata": {},
   "source": [
    "#### Criando o modelo."
   ]
  },
  {
   "cell_type": "code",
   "execution_count": 63,
   "id": "edcf1615",
   "metadata": {},
   "outputs": [
    {
     "data": {
      "text/html": [
       "<style type=\"text/css\">\n",
       "#T_70805_row5_col0, #T_70805_row5_col1, #T_70805_row5_col2, #T_70805_row5_col3, #T_70805_row5_col4, #T_70805_row5_col5, #T_70805_row5_col6 {\n",
       "  background: yellow;\n",
       "}\n",
       "</style>\n",
       "<table id=\"T_70805_\">\n",
       "  <thead>\n",
       "    <tr>\n",
       "      <th class=\"blank level0\" >&nbsp;</th>\n",
       "      <th class=\"col_heading level0 col0\" >Accuracy</th>\n",
       "      <th class=\"col_heading level0 col1\" >AUC</th>\n",
       "      <th class=\"col_heading level0 col2\" >Recall</th>\n",
       "      <th class=\"col_heading level0 col3\" >Prec.</th>\n",
       "      <th class=\"col_heading level0 col4\" >F1</th>\n",
       "      <th class=\"col_heading level0 col5\" >Kappa</th>\n",
       "      <th class=\"col_heading level0 col6\" >MCC</th>\n",
       "    </tr>\n",
       "  </thead>\n",
       "  <tbody>\n",
       "    <tr>\n",
       "      <th id=\"T_70805_level0_row0\" class=\"row_heading level0 row0\" >0</th>\n",
       "      <td id=\"T_70805_row0_col0\" class=\"data row0 col0\" >0.8229</td>\n",
       "      <td id=\"T_70805_row0_col1\" class=\"data row0 col1\" >0.7806</td>\n",
       "      <td id=\"T_70805_row0_col2\" class=\"data row0 col2\" >0.6740</td>\n",
       "      <td id=\"T_70805_row0_col3\" class=\"data row0 col3\" >0.6172</td>\n",
       "      <td id=\"T_70805_row0_col4\" class=\"data row0 col4\" >0.6444</td>\n",
       "      <td id=\"T_70805_row0_col5\" class=\"data row0 col5\" >0.5267</td>\n",
       "      <td id=\"T_70805_row0_col6\" class=\"data row0 col6\" >0.5276</td>\n",
       "    </tr>\n",
       "    <tr>\n",
       "      <th id=\"T_70805_level0_row1\" class=\"row_heading level0 row1\" >1</th>\n",
       "      <td id=\"T_70805_row1_col0\" class=\"data row1 col0\" >0.8219</td>\n",
       "      <td id=\"T_70805_row1_col1\" class=\"data row1 col1\" >0.8123</td>\n",
       "      <td id=\"T_70805_row1_col2\" class=\"data row1 col2\" >0.7040</td>\n",
       "      <td id=\"T_70805_row1_col3\" class=\"data row1 col3\" >0.6090</td>\n",
       "      <td id=\"T_70805_row1_col4\" class=\"data row1 col4\" >0.6531</td>\n",
       "      <td id=\"T_70805_row1_col5\" class=\"data row1 col5\" >0.5341</td>\n",
       "      <td id=\"T_70805_row1_col6\" class=\"data row1 col6\" >0.5366</td>\n",
       "    </tr>\n",
       "    <tr>\n",
       "      <th id=\"T_70805_level0_row2\" class=\"row_heading level0 row2\" >2</th>\n",
       "      <td id=\"T_70805_row2_col0\" class=\"data row2 col0\" >0.8138</td>\n",
       "      <td id=\"T_70805_row2_col1\" class=\"data row2 col1\" >0.8119</td>\n",
       "      <td id=\"T_70805_row2_col2\" class=\"data row2 col2\" >0.7040</td>\n",
       "      <td id=\"T_70805_row2_col3\" class=\"data row2 col3\" >0.5916</td>\n",
       "      <td id=\"T_70805_row2_col4\" class=\"data row2 col4\" >0.6429</td>\n",
       "      <td id=\"T_70805_row2_col5\" class=\"data row2 col5\" >0.5183</td>\n",
       "      <td id=\"T_70805_row2_col6\" class=\"data row2 col6\" >0.5219</td>\n",
       "    </tr>\n",
       "    <tr>\n",
       "      <th id=\"T_70805_level0_row3\" class=\"row_heading level0 row3\" >3</th>\n",
       "      <td id=\"T_70805_row3_col0\" class=\"data row3 col0\" >0.8366</td>\n",
       "      <td id=\"T_70805_row3_col1\" class=\"data row3 col1\" >0.8141</td>\n",
       "      <td id=\"T_70805_row3_col2\" class=\"data row3 col2\" >0.7074</td>\n",
       "      <td id=\"T_70805_row3_col3\" class=\"data row3 col3\" >0.6418</td>\n",
       "      <td id=\"T_70805_row3_col4\" class=\"data row3 col4\" >0.6730</td>\n",
       "      <td id=\"T_70805_row3_col5\" class=\"data row3 col5\" >0.5644</td>\n",
       "      <td id=\"T_70805_row3_col6\" class=\"data row3 col6\" >0.5656</td>\n",
       "    </tr>\n",
       "    <tr>\n",
       "      <th id=\"T_70805_level0_row4\" class=\"row_heading level0 row4\" >4</th>\n",
       "      <td id=\"T_70805_row4_col0\" class=\"data row4 col0\" >0.8313</td>\n",
       "      <td id=\"T_70805_row4_col1\" class=\"data row4 col1\" >0.8159</td>\n",
       "      <td id=\"T_70805_row4_col2\" class=\"data row4 col2\" >0.7140</td>\n",
       "      <td id=\"T_70805_row4_col3\" class=\"data row4 col3\" >0.6285</td>\n",
       "      <td id=\"T_70805_row4_col4\" class=\"data row4 col4\" >0.6685</td>\n",
       "      <td id=\"T_70805_row4_col5\" class=\"data row4 col5\" >0.5561</td>\n",
       "      <td id=\"T_70805_row4_col6\" class=\"data row4 col6\" >0.5581</td>\n",
       "    </tr>\n",
       "    <tr>\n",
       "      <th id=\"T_70805_level0_row5\" class=\"row_heading level0 row5\" >Mean</th>\n",
       "      <td id=\"T_70805_row5_col0\" class=\"data row5 col0\" >0.8253</td>\n",
       "      <td id=\"T_70805_row5_col1\" class=\"data row5 col1\" >0.8069</td>\n",
       "      <td id=\"T_70805_row5_col2\" class=\"data row5 col2\" >0.7007</td>\n",
       "      <td id=\"T_70805_row5_col3\" class=\"data row5 col3\" >0.6176</td>\n",
       "      <td id=\"T_70805_row5_col4\" class=\"data row5 col4\" >0.6564</td>\n",
       "      <td id=\"T_70805_row5_col5\" class=\"data row5 col5\" >0.5399</td>\n",
       "      <td id=\"T_70805_row5_col6\" class=\"data row5 col6\" >0.5420</td>\n",
       "    </tr>\n",
       "    <tr>\n",
       "      <th id=\"T_70805_level0_row6\" class=\"row_heading level0 row6\" >SD</th>\n",
       "      <td id=\"T_70805_row6_col0\" class=\"data row6 col0\" >0.0079</td>\n",
       "      <td id=\"T_70805_row6_col1\" class=\"data row6 col1\" >0.0133</td>\n",
       "      <td id=\"T_70805_row6_col2\" class=\"data row6 col2\" >0.0138</td>\n",
       "      <td id=\"T_70805_row6_col3\" class=\"data row6 col3\" >0.0171</td>\n",
       "      <td id=\"T_70805_row6_col4\" class=\"data row6 col4\" >0.0123</td>\n",
       "      <td id=\"T_70805_row6_col5\" class=\"data row6 col5\" >0.0175</td>\n",
       "      <td id=\"T_70805_row6_col6\" class=\"data row6 col6\" >0.0171</td>\n",
       "    </tr>\n",
       "  </tbody>\n",
       "</table>\n"
      ],
      "text/plain": [
       "<pandas.io.formats.style.Styler at 0x7fceeb473c70>"
      ]
     },
     "metadata": {},
     "output_type": "display_data"
    }
   ],
   "source": [
    "gbc = create_model('gbc', fold = 5)"
   ]
  },
  {
   "cell_type": "markdown",
   "id": "22ab7ba2",
   "metadata": {},
   "source": [
    "#### Realizando o tunning do modelo."
   ]
  },
  {
   "cell_type": "code",
   "execution_count": 64,
   "id": "3f02f806",
   "metadata": {
    "scrolled": true,
    "tags": []
   },
   "outputs": [
    {
     "data": {
      "text/html": [
       "<style type=\"text/css\">\n",
       "#T_79688_row5_col0, #T_79688_row5_col1, #T_79688_row5_col2, #T_79688_row5_col3, #T_79688_row5_col4, #T_79688_row5_col5, #T_79688_row5_col6 {\n",
       "  background: yellow;\n",
       "}\n",
       "</style>\n",
       "<table id=\"T_79688_\">\n",
       "  <thead>\n",
       "    <tr>\n",
       "      <th class=\"blank level0\" >&nbsp;</th>\n",
       "      <th class=\"col_heading level0 col0\" >Accuracy</th>\n",
       "      <th class=\"col_heading level0 col1\" >AUC</th>\n",
       "      <th class=\"col_heading level0 col2\" >Recall</th>\n",
       "      <th class=\"col_heading level0 col3\" >Prec.</th>\n",
       "      <th class=\"col_heading level0 col4\" >F1</th>\n",
       "      <th class=\"col_heading level0 col5\" >Kappa</th>\n",
       "      <th class=\"col_heading level0 col6\" >MCC</th>\n",
       "    </tr>\n",
       "  </thead>\n",
       "  <tbody>\n",
       "    <tr>\n",
       "      <th id=\"T_79688_level0_row0\" class=\"row_heading level0 row0\" >0</th>\n",
       "      <td id=\"T_79688_row0_col0\" class=\"data row0 col0\" >0.7938</td>\n",
       "      <td id=\"T_79688_row0_col1\" class=\"data row0 col1\" >0.7742</td>\n",
       "      <td id=\"T_79688_row0_col2\" class=\"data row0 col2\" >0.6780</td>\n",
       "      <td id=\"T_79688_row0_col3\" class=\"data row0 col3\" >0.5548</td>\n",
       "      <td id=\"T_79688_row0_col4\" class=\"data row0 col4\" >0.6103</td>\n",
       "      <td id=\"T_79688_row0_col5\" class=\"data row0 col5\" >0.4720</td>\n",
       "      <td id=\"T_79688_row0_col6\" class=\"data row0 col6\" >0.4764</td>\n",
       "    </tr>\n",
       "    <tr>\n",
       "      <th id=\"T_79688_level0_row1\" class=\"row_heading level0 row1\" >1</th>\n",
       "      <td id=\"T_79688_row1_col0\" class=\"data row1 col0\" >0.7957</td>\n",
       "      <td id=\"T_79688_row1_col1\" class=\"data row1 col1\" >0.7985</td>\n",
       "      <td id=\"T_79688_row1_col2\" class=\"data row1 col2\" >0.6940</td>\n",
       "      <td id=\"T_79688_row1_col3\" class=\"data row1 col3\" >0.5570</td>\n",
       "      <td id=\"T_79688_row1_col4\" class=\"data row1 col4\" >0.6180</td>\n",
       "      <td id=\"T_79688_row1_col5\" class=\"data row1 col5\" >0.4808</td>\n",
       "      <td id=\"T_79688_row1_col6\" class=\"data row1 col6\" >0.4863</td>\n",
       "    </tr>\n",
       "    <tr>\n",
       "      <th id=\"T_79688_level0_row2\" class=\"row_heading level0 row2\" >2</th>\n",
       "      <td id=\"T_79688_row2_col0\" class=\"data row2 col0\" >0.7933</td>\n",
       "      <td id=\"T_79688_row2_col1\" class=\"data row2 col1\" >0.8019</td>\n",
       "      <td id=\"T_79688_row2_col2\" class=\"data row2 col2\" >0.7100</td>\n",
       "      <td id=\"T_79688_row2_col3\" class=\"data row2 col3\" >0.5512</td>\n",
       "      <td id=\"T_79688_row2_col4\" class=\"data row2 col4\" >0.6206</td>\n",
       "      <td id=\"T_79688_row2_col5\" class=\"data row2 col5\" >0.4817</td>\n",
       "      <td id=\"T_79688_row2_col6\" class=\"data row2 col6\" >0.4890</td>\n",
       "    </tr>\n",
       "    <tr>\n",
       "      <th id=\"T_79688_level0_row3\" class=\"row_heading level0 row3\" >3</th>\n",
       "      <td id=\"T_79688_row3_col0\" class=\"data row3 col0\" >0.8037</td>\n",
       "      <td id=\"T_79688_row3_col1\" class=\"data row3 col1\" >0.8124</td>\n",
       "      <td id=\"T_79688_row3_col2\" class=\"data row3 col2\" >0.7074</td>\n",
       "      <td id=\"T_79688_row3_col3\" class=\"data row3 col3\" >0.5703</td>\n",
       "      <td id=\"T_79688_row3_col4\" class=\"data row3 col4\" >0.6315</td>\n",
       "      <td id=\"T_79688_row3_col5\" class=\"data row3 col5\" >0.4998</td>\n",
       "      <td id=\"T_79688_row3_col6\" class=\"data row3 col6\" >0.5052</td>\n",
       "    </tr>\n",
       "    <tr>\n",
       "      <th id=\"T_79688_level0_row4\" class=\"row_heading level0 row4\" >4</th>\n",
       "      <td id=\"T_79688_row4_col0\" class=\"data row4 col0\" >0.8085</td>\n",
       "      <td id=\"T_79688_row4_col1\" class=\"data row4 col1\" >0.8121</td>\n",
       "      <td id=\"T_79688_row4_col2\" class=\"data row4 col2\" >0.7360</td>\n",
       "      <td id=\"T_79688_row4_col3\" class=\"data row4 col3\" >0.5768</td>\n",
       "      <td id=\"T_79688_row4_col4\" class=\"data row4 col4\" >0.6467</td>\n",
       "      <td id=\"T_79688_row4_col5\" class=\"data row4 col5\" >0.5180</td>\n",
       "      <td id=\"T_79688_row4_col6\" class=\"data row4 col6\" >0.5253</td>\n",
       "    </tr>\n",
       "    <tr>\n",
       "      <th id=\"T_79688_level0_row5\" class=\"row_heading level0 row5\" >Mean</th>\n",
       "      <td id=\"T_79688_row5_col0\" class=\"data row5 col0\" >0.7990</td>\n",
       "      <td id=\"T_79688_row5_col1\" class=\"data row5 col1\" >0.7998</td>\n",
       "      <td id=\"T_79688_row5_col2\" class=\"data row5 col2\" >0.7051</td>\n",
       "      <td id=\"T_79688_row5_col3\" class=\"data row5 col3\" >0.5620</td>\n",
       "      <td id=\"T_79688_row5_col4\" class=\"data row5 col4\" >0.6254</td>\n",
       "      <td id=\"T_79688_row5_col5\" class=\"data row5 col5\" >0.4905</td>\n",
       "      <td id=\"T_79688_row5_col6\" class=\"data row5 col6\" >0.4964</td>\n",
       "    </tr>\n",
       "    <tr>\n",
       "      <th id=\"T_79688_level0_row6\" class=\"row_heading level0 row6\" >SD</th>\n",
       "      <td id=\"T_79688_row6_col0\" class=\"data row6 col0\" >0.0060</td>\n",
       "      <td id=\"T_79688_row6_col1\" class=\"data row6 col1\" >0.0139</td>\n",
       "      <td id=\"T_79688_row6_col2\" class=\"data row6 col2\" >0.0192</td>\n",
       "      <td id=\"T_79688_row6_col3\" class=\"data row6 col3\" >0.0098</td>\n",
       "      <td id=\"T_79688_row6_col4\" class=\"data row6 col4\" >0.0126</td>\n",
       "      <td id=\"T_79688_row6_col5\" class=\"data row6 col5\" >0.0165</td>\n",
       "      <td id=\"T_79688_row6_col6\" class=\"data row6 col6\" >0.0171</td>\n",
       "    </tr>\n",
       "  </tbody>\n",
       "</table>\n"
      ],
      "text/plain": [
       "<pandas.io.formats.style.Styler at 0x7fceb84da460>"
      ]
     },
     "metadata": {},
     "output_type": "display_data"
    }
   ],
   "source": [
    "tuned_gbc = tune_model(gbc\n",
    "                      ,fold = 5\n",
    "                      ,custom_grid = {\n",
    "                                      \"learning_rate\":[0.1,0.2,0.5]\n",
    "                                     ,\"n_estimators\":[100,500,1000]\n",
    "                                     ,\"min_samples_split\":[1,2,5,10]\n",
    "                                     ,\"max_depth\":[1,3,9]\n",
    "                                     }\n",
    "                      ,optimize = 'AUC')"
   ]
  },
  {
   "cell_type": "markdown",
   "id": "b498f3ab",
   "metadata": {},
   "source": [
    "#### Finalizando o modelo."
   ]
  },
  {
   "cell_type": "code",
   "execution_count": 65,
   "id": "3b110ac6",
   "metadata": {},
   "outputs": [],
   "source": [
    "final_model = finalize_model(gbc)"
   ]
  },
  {
   "cell_type": "code",
   "execution_count": 66,
   "id": "d0a246f8",
   "metadata": {},
   "outputs": [
    {
     "name": "stdout",
     "output_type": "stream",
     "text": [
      "Transformation Pipeline and Model Successfully Saved\n"
     ]
    },
    {
     "data": {
      "text/plain": [
       "(Pipeline(memory=None,\n",
       "          steps=[('dtypes',\n",
       "                  DataTypes_Auto_infer(categorical_features=[],\n",
       "                                       display_types=True, features_todrop=[],\n",
       "                                       id_columns=[],\n",
       "                                       ml_usecase='classification',\n",
       "                                       numerical_features=['yearsAtCompany'],\n",
       "                                       target='turnover', time_features=[])),\n",
       "                 ('imputer',\n",
       "                  Simple_Imputer(categorical_strategy='not_available',\n",
       "                                 fill_value_categorical=None,\n",
       "                                 fill_value_numerical=...\n",
       "                                             learning_rate=0.1, loss='deviance',\n",
       "                                             max_depth=3, max_features=None,\n",
       "                                             max_leaf_nodes=None,\n",
       "                                             min_impurity_decrease=0.0,\n",
       "                                             min_impurity_split=None,\n",
       "                                             min_samples_leaf=1,\n",
       "                                             min_samples_split=2,\n",
       "                                             min_weight_fraction_leaf=0.0,\n",
       "                                             n_estimators=100,\n",
       "                                             n_iter_no_change=None,\n",
       "                                             presort='deprecated',\n",
       "                                             random_state=3080, subsample=1.0,\n",
       "                                             tol=0.0001, validation_fraction=0.1,\n",
       "                                             verbose=0, warm_start=False)]],\n",
       "          verbose=False),\n",
       " 'model.pkl')"
      ]
     },
     "execution_count": 66,
     "metadata": {},
     "output_type": "execute_result"
    }
   ],
   "source": [
    "save_model(final_model,'model')"
   ]
  },
  {
   "cell_type": "markdown",
   "id": "a87ed577",
   "metadata": {},
   "source": [
    "#### Transferindo os arquivos para o Data Lake."
   ]
  },
  {
   "cell_type": "markdown",
   "id": "3e254c1c",
   "metadata": {},
   "source": [
    "#### Modelo de Classificação."
   ]
  },
  {
   "cell_type": "code",
   "execution_count": 67,
   "id": "b438b749",
   "metadata": {},
   "outputs": [
    {
     "data": {
      "text/plain": [
       "<minio.helpers.ObjectWriteResult at 0x7fceb84daa00>"
      ]
     },
     "execution_count": 67,
     "metadata": {},
     "output_type": "execute_result"
    }
   ],
   "source": [
    "client.fput_object(\n",
    "    \"curated\",\n",
    "    \"model.pkl\",\n",
    "    \"model.pkl\"\n",
    ")"
   ]
  },
  {
   "cell_type": "markdown",
   "id": "c8fa009d",
   "metadata": {},
   "source": [
    "#### Exportando o conjunto de dados para o disco."
   ]
  },
  {
   "cell_type": "code",
   "execution_count": 68,
   "id": "a65fc51b",
   "metadata": {
    "scrolled": true
   },
   "outputs": [],
   "source": [
    "df.to_csv(\"dataset.csv\",index=False)"
   ]
  },
  {
   "cell_type": "code",
   "execution_count": 69,
   "id": "bc43bf6c",
   "metadata": {},
   "outputs": [
    {
     "data": {
      "text/plain": [
       "<minio.helpers.ObjectWriteResult at 0x7fceb85a4d30>"
      ]
     },
     "execution_count": 69,
     "metadata": {},
     "output_type": "execute_result"
    }
   ],
   "source": [
    "client.fput_object(\n",
    "    \"curated\",\n",
    "    \"dataset.csv\",\n",
    "    \"dataset.csv\"\n",
    ")"
   ]
  },
  {
   "cell_type": "code",
   "execution_count": null,
   "id": "ad9b3aab",
   "metadata": {},
   "outputs": [],
   "source": []
  }
 ],
 "metadata": {
  "kernelspec": {
   "display_name": "pycaret",
   "language": "python",
   "name": "pycaret"
  },
  "language_info": {
   "codemirror_mode": {
    "name": "ipython",
    "version": 3
   },
   "file_extension": ".py",
   "mimetype": "text/x-python",
   "name": "python",
   "nbconvert_exporter": "python",
   "pygments_lexer": "ipython3",
   "version": "3.8.11"
  }
 },
 "nbformat": 4,
 "nbformat_minor": 5
}
